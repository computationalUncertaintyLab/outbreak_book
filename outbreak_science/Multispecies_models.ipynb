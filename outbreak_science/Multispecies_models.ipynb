{
 "cells": [
  {
   "cell_type": "markdown",
   "id": "10036348-6f02-4235-a5b6-6fee26ff94dc",
   "metadata": {},
   "source": [
    "# Multi-species models \n",
    "```{contents} Table of Contents\n",
    ":depth: 3\n",
    "```"
   ]
  },
  {
   "cell_type": "markdown",
   "id": "d2dabf49-a1c1-4f6d-ba36-0906057937ef",
   "metadata": {},
   "source": [
    "## Dengue \n",
    "\n",
    "For Dengue Fever, we'll follow work from this manuscript = [A model of dengue fever](https://pmc.ncbi.nlm.nih.gov/articles/PMC153427/).\n",
    "\n",
    "We suppose that there exists in the system two species who can transfer the dengue virus to one another: human ($h$) and mosquitoes ($m$).\n",
    "Mathematical models for multi-species often explore how manipulating the non-human animal population can reduce disease. \n",
    "This is for many reasons but one primary reason is that its very hard for humans to change their behaviors to prevent disease.\n",
    "\n",
    "The model present for dengue assumes homogeneous mixing between both species. \n",
    "\n",
    "The dengue virus is passed from an infected mosquito to a human via a bite. \n",
    "To understand how the pathogen might be transmitted at the population level we should attempt to understand the probability of transmission when a human is bit and also the average number of bites per infected mosquito. \n",
    "\n",
    "The authors assume that infected mosquitoes bite one human per day $(b_{i} = 1)$, and that susceptible (not yet infected) mosquitoes bite 0.75 humans per day $(b_{s}=0.75)$.\n",
    "There is evidence that infected mosquitoes do bite more frequently. \n",
    "\n",
    "There is also previous evidence that suggests the probability of transmission from humans to mosquitoes; $p_{h\\to m}$; (and vice-versa; $p_{m\\to h}$) is 0.75. \n",
    "\n",
    "Then the probability that a human is infected by a mosquito in a small interval of time $\\Delta t$ is estimated for humans as \n",
    "\\begin{align}\n",
    "   p(\\text{one human is infected}) =  1 - (1-p_{m\\to h})^{b_{i} \\times \\frac{I_{m}}{N_{h}} \\Delta t } \\approx p_{m\\to h} b_{i} \\frac{I_{m}}{N_{h}} \\Delta t\n",
    "\\end{align}\n",
    "\n",
    "and so the average rate of infections among all susceptible humans is \n",
    "\n",
    "\\begin{align}\n",
    "   \\Delta S  &= - S_{h} \\times \\left(p_{m\\to h} b_{i}\\right) \\frac{I_{m}}{N_{h}} \\Delta t \\\\ \n",
    "   \\frac{\\Delta S}{\\Delta t} &= - S_{h} \\left(p_{m\\to h} b_{i}\\right) \\frac{I_{m}}{N_{h}} \\\\ \n",
    "   \\frac{dS}{dt}&= - \\beta_{m\\to h} S_{h}  \\frac{I_{m}}{N_{h}} \\\\ \n",
    "\\end{align}\n",
    "\n",
    "where we defined $\\beta_{m \\to h} = p_{m\\to h} b_{i}$. \n",
    "We see that the rate at which susceptibles move to the infected state---called **the force of infection**---depends on how often infected mosquitoes bit, the probability of transmission when they do bite, and the number of mosquitoes per person $(\\frac{I_{m}}{N_{h}})$. \n",
    "\n",
    "We can take a similar approach to define the change in infected humans and removed humans.\n",
    "Because we are studying to species we also need to define the change in susceptible and infected mosquitoes. \n",
    "\n",
    "\\begin{align}\n",
    "\\frac{dS_{h}}{dt} &= -\\beta_{m \\to h} S_{h} \\frac{I_{m}}{N_{m}} \\\\  \n",
    "\\frac{dI_{h}}{dt} &= \\beta_{m \\to h} S_{h} \\frac{I_{m}}{N_{m}} - \\gamma I_{h}\\\\\n",
    "\\frac{dR_{h}}{dt} &= \\gamma I_{h}\n",
    "\\end{align}"
   ]
  },
  {
   "cell_type": "markdown",
   "id": "0687384e-f722-4129-860c-18c176ea79bb",
   "metadata": {},
   "source": [
    "When a mosquito is infected with the dengue virus they never clear it. \n",
    "That is, mosquitoes are either susceptible or infected. \n",
    "Just like with the human population, we define the change in susceptible and infected mosquitoes as \n",
    "\n",
    "\\begin{align}\n",
    "    \\frac{dS_{m}}{dt} &= -\\beta_{h \\to m} S_{m} \\frac{I_{h}}{N_{h}}\\\\\n",
    "    \\frac{dI_{m}}{dt} &= \\beta_{h \\to m} S_{m} \\frac{I_{h}}{N_{h}}\n",
    "\\end{align}\n",
    "\n",
    "where the rate of movement from susceptible to infectious depends on the fraction of infected humans $\\frac{I_{h}}{N_{h}}$.\n",
    "Mosquitoes do not infect one another. They acquire an infection by, in this model, biting an infected human.\n",
    "\n",
    "The full set of differential equations has five states\n",
    "\n",
    "\\begin{align}\n",
    "%\n",
    "\\frac{dS_{h}}{dt} &= -\\beta_{m \\to h} S_{h} \\frac{I_{m}}{N_{m}} \\\\  \n",
    "\\frac{dI_{h}}{dt} &= \\beta_{m \\to h} S_{h} \\frac{I_{m}}{N_{m}} - \\gamma I_{h}\\\\\n",
    "\\frac{dR_{h}}{dt} &= \\gamma I_{h}\\\\\n",
    "\\\\\n",
    "%\n",
    "\\frac{dS_{m}}{dt} &= -\\beta_{h \\to m} S_{m} \\frac{I_{h}}{N_{h}}\\\\\n",
    "\\frac{dI_{m}}{dt} &= \\beta_{h \\to m} S_{m} \\frac{I_{h}}{N_{h}}\n",
    "%\n",
    "\\end{align}\n",
    "\n",
    "To complete our model specification we need initial conditions so each of the five states. \n",
    "The manuscript linked above suggests that a reasonable number of humans is 5000 and mosquitoes 50,000.\n",
    "We will also use the same parameter values that were derived in the linked manuscript\n",
    "\n",
    "| Name of the parameter                       | Notation | Base value            |\n",
    "|---------------------------------------------|----------|-----------------------|\n",
    "| Transmission probability of vector to human | $p_{hv}$      | 0.75                 |\n",
    "| Transmission probability of human to vector | $p_{vh}$      | 0.75                 |\n",
    "| Bites per susceptible mosquito per day      | $b_{s}$       | 0.5                  |\n",
    "| Bites per infectious mosquito per day       | $b_{i}$       | 1.0                  |\n",
    "| Effective contact rate, human to vector     | $\\beta_{h \\to m}$      | 0.375       |\n",
    "| Effective contact rate, vector to human     | $\\beta_{m \\to h}$     | 0.75         |\n",
    "| Human life span                             |  $1/\\mu_{h}$              | 25000 days |\n",
    "| Vector life span                            |  $1/\\mu_{m}$             | 4 days      |\n",
    "| Host infection duration                     |  $1/\\gamma$              | 3 days      |\n",
    "\n",
    "\n",
    "## Demography \n",
    "\n",
    "We need to add to our model one more important component---demographics. \n",
    "The lifespan of humans and mosquitoes is quite different. \n",
    "On average a human may live 65 years or so but mosquitoes typically live 4 days.  \n",
    "To account for this, we need to model the birth and death of humans and mosquitoes (irrespective of disease state). \n",
    "\n",
    "We will assume that humans are born at a rate of $\\mu_{h}$ and mosquitoes $\\mu_{m}$.\n",
    "Likewise, we will also assume both species die at that same rate. \n",
    "This is a simplifying assumption. \n",
    "Though species enter and exit the system the number of each species stays constant. \n",
    "\n",
    "Lets add birth and death process to the above system of equations:\n",
    "\n",
    "\\begin{align}\n",
    "%\n",
    "\\frac{dS_{h}}{dt} &= \\mu_{h}N_{h} -\\beta_{m \\to h} S_{h} \\frac{I_{m}}{N_{m}} - \\mu_{h}S \\\\  \n",
    "\\frac{dI_{h}}{dt} &= \\beta_{m \\to h} S_{h} \\frac{I_{m}}{N_{m}} - \\gamma I_{h} - \\mu_{h}I\\\\\n",
    "\\frac{dR_{h}}{dt} &= \\gamma I_{h} - \\mu_{h}R\\\\\n",
    "\\\\\n",
    "%\n",
    "\\frac{dS_{m}}{dt} &= \\mu_{m}N_{m} -\\beta_{h \\to m} S_{m} \\frac{I_{h}}{N_{h}} - \\mu_{m}S_{m} \\\\\n",
    "\\frac{dI_{m}}{dt} &= \\beta_{h \\to m} S_{m} \\frac{I_{h}}{N_{h}} - \\mu_{m}I_{m}\n",
    "%\n",
    "\\end{align}\n"
   ]
  },
  {
   "cell_type": "code",
   "execution_count": 91,
   "id": "04840183-bfab-471a-9a37-1c5c25c726ed",
   "metadata": {},
   "outputs": [
    {
     "data": {
      "text/plain": [
       "<matplotlib.legend.Legend at 0x1434eaec0>"
      ]
     },
     "execution_count": 91,
     "metadata": {},
     "output_type": "execute_result"
    },
    {
     "data": {
      "image/png": "[encoded data removed]",
      "text/plain": [
       "<Figure size 640x480 with 1 Axes>"
      ]
     },
     "metadata": {},
     "output_type": "display_data"
    }
   ],
   "source": [
    "import numpy as np                     #--for array and matrix computations \n",
    "from scipy.integrate import solve_ivp  #--needed to solve the ODE system \n",
    "import matplotlib.pyplot as plt        #---for plotting \n",
    "\n",
    "def dengue(t,y\n",
    "           ,beta__h2m\n",
    "           ,beta__m2h\n",
    "           ,gamma\n",
    "           ,nh\n",
    "           ,nm\n",
    "           ,muh ):\n",
    "    sh,ih,rh,  sm,im = y  #<- We assume that y holds state values s,i,r etc at each tiny time step\n",
    "\n",
    "    dsh_dt =   muh*nh -beta__h2m*sh*(im/nh) - muh*sh\n",
    "    dih_dt =           beta__h2m*sh*(im/nh) - gamma*ih\n",
    "    drh_dt =   gamma*ih                     - muh*rh\n",
    "\n",
    "    dsm_dt =   mum*nm -beta__m2h*sm*(ih/nh) - mum*sm      \n",
    "    dim_dt =           beta__m2h*sm*(ih/nh) - mum*im\n",
    "\n",
    "    #Its our job to compute the derivatives and return them as a list\n",
    "    return [dsh_dt, dih_dt, drh_dt,  dsm_dt, dim_dt ] \n",
    "\n",
    "start = 0    #--start at time 0\n",
    "end   = 8030   #--end   at time 200\n",
    "\n",
    "beta__h2m = 0.75\n",
    "beta__m2h = 0.375\n",
    "\n",
    "gamma     = 1./3\n",
    "muh       = 1./25000\n",
    "mum       = 1./4\n",
    "\n",
    "nh = 10*10**3\n",
    "nm = 10*10**4\n",
    "\n",
    "S0h = nh*(1-0.0001)\n",
    "I0h = nh*0.0001\n",
    "R0h = 0\n",
    "\n",
    "S0m = nm*(1-0.0001)\n",
    "I0m = nm*0.0001\n",
    "\n",
    "initial_conditions = (S0h,I0h,R0h, S0m,I0m  )\n",
    "\n",
    "solution = solve_ivp( fun     = dengue\n",
    "                     , t_span = (start,end)\n",
    "                     , y0     = initial_conditions\n",
    "                     , args   = (beta__h2m,beta__m2h,gamma,nh,nm,muh) )\n",
    "\n",
    "#--Extract solutions from the object called \"solution\"\n",
    "times = solution.t\n",
    "St_h    = solution.y[0,:] #<-first row  is S\n",
    "It_h    = solution.y[1,:] #<-first row  is S\n",
    "Rt_h    = solution.y[2,:] #<-first row  is S\n",
    "\n",
    "St_m    = solution.y[3,:] #<-first row  is S\n",
    "It_m    = solution.y[4,:] #<-first row  is S\n",
    "\n",
    "#--plot the results\n",
    "plt.plot(times,It_h, label = \"Ih(t)\")\n",
    "\n",
    "plt.xlabel(\"Time\")\n",
    "plt.ylabel(\"Frequency\")\n",
    "plt.legend()"
   ]
  },
  {
   "cell_type": "markdown",
   "id": "bf849e54-72d8-4b1c-9ff0-352d69c5be84",
   "metadata": {},
   "source": [
    "Above is a plot of the number of human infections over 22 years (8030 days).\n",
    "We see initially an intense rise in infections and then no more---or maybe not.\n",
    "If we look closely, it seems like there may be smaller activity after the first year. \n",
    "\n",
    "Lets plot the number of infections after the first few years. "
   ]
  },
  {
   "cell_type": "code",
   "execution_count": 96,
   "id": "e3e21d72-4974-4642-9778-de73b0832fa2",
   "metadata": {},
   "outputs": [
    {
     "data": {
      "image/png": "[encoded data removed]",
      "text/plain": [
       "<Figure size 640x480 with 1 Axes>"
      ]
     },
     "metadata": {},
     "output_type": "display_data"
    }
   ],
   "source": [
    "fig,ax = plt.subplots()\n",
    "ax.plot(times[100:],It_h[100:])\n",
    "ax.set_xlabel(\"Time (Days)\")\n",
    "ax.set_ylabel(\"Infected humans\")\n",
    "plt.show()"
   ]
  },
  {
   "cell_type": "markdown",
   "id": "7bce01eb-f272-4c73-a820-92cd7a988447",
   "metadata": {},
   "source": [
    "Our model shows periodic spikes of infections in the human population that slowly die down over a decade. \n",
    "This is periodic behavior is a result of the different in lifespan between mosquitoes and humans. \n",
    "Humans are entering the system susceptible and present for a much longer time than mosquitoes.\n",
    "This replenishment of susceptibles reaches a critical point where an outbreak occurs. \n",
    "Susceptibles are depleted and the process starts again. "
   ]
  },
  {
   "cell_type": "markdown",
   "id": "1caedd7e-9793-486b-b057-1c5663f55d15",
   "metadata": {},
   "source": [
    "## Homework \n",
    "\n",
    "1. "
   ]
  },
  {
   "cell_type": "code",
   "execution_count": null,
   "id": "298fc411-86bd-4677-97ad-0649e75a2d48",
   "metadata": {},
   "outputs": [],
   "source": []
  },
  {
   "cell_type": "code",
   "execution_count": 94,
   "id": "b579c60a-01f4-41cf-aeb9-f95cb5520de7",
   "metadata": {},
   "outputs": [],
   "source": [
    "## "
   ]
  },
  {
   "cell_type": "code",
   "execution_count": null,
   "id": "e5ff25b4-afe8-4085-87c7-15aeb9ad46fe",
   "metadata": {},
   "outputs": [],
   "source": []
  },
  {
   "cell_type": "code",
   "execution_count": null,
   "id": "adff9c9a-31d7-4e29-a3b5-37139f89123d",
   "metadata": {},
   "outputs": [],
   "source": []
  }
 ],
 "metadata": {
  "kernelspec": {
   "display_name": "Python 3 (ipykernel)",
   "language": "python",
   "name": "python3"
  },
  "language_info": {
   "codemirror_mode": {
    "name": "ipython",
    "version": 3
   },
   "file_extension": ".py",
   "mimetype": "text/x-python",
   "name": "python",
   "nbconvert_exporter": "python",
   "pygments_lexer": "ipython3",
   "version": "3.10.16"
  }
 },
 "nbformat": 4,
 "nbformat_minor": 5
}
