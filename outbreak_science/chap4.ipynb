{
 "cells": [
  {
   "cell_type": "markdown",
   "metadata": {},
   "source": [
    "# Chapter Three - Simulating the Reed-Frost model"
   ]
  },
  {
   "cell_type": "markdown",
   "metadata": {},
   "source": [
    "The Reed-Frost model assumes that there exists a closed population of $N$ individuals, and these individuals are assigned to disease states: susceptible, infected, removed. \n",
    "Every individual in the system comes into contact with every other individual at each time steps $\\Delta t$.\n",
    "At the start of the system, we assume that there are $s_{0}$ susceptibles, $i_{0}$ infectors, and $r_{0}$ removed. We also assume that when an infector comes in contact with a susceptible that they transfer the pathogen with probability $p$. \n",
    "\n",
    "This means that, for the Reed-Frost model, we need to keep track of the number of susceptible, infected, and removed individuals over time. \n",
    "There are many ways to do this. \n",
    "Below, we will keep track of individuals using three lists. \n",
    "List $s$ counts the number of susceptibles, list $i$ counts the number of infectors, and list $r$ counts the number of removed.  "
   ]
  },
  {
   "cell_type": "code",
   "execution_count": 47,
   "metadata": {},
   "outputs": [],
   "source": [
    "#--initial conditions\n",
    "s0 = 100\n",
    "i0 = 1\n",
    "r0 = 0\n",
    "\n",
    "#--probability of transmission\n",
    "p=0.015\n",
    "\n",
    "#--create three lists and add the initial number of s,i,r to each list. \n",
    "s = [s0]\n",
    "i = [i0]\n",
    "r = [r0]"
   ]
  },
  {
   "cell_type": "markdown",
   "metadata": {},
   "source": [
    "Above, we created three variables to hold the initial conditions:\n",
    "$s_{0}$,$i_{0}$,$r_{0}$. \n",
    "We also created three lists $s,i,r$ and added the initial conditions to them.\n",
    "To these three lists we will append new counts of s,i,r at the following time step. \n",
    "\n",
    "From chapter one we saw that, for a single susceptible, the probability of infection at time $t+\\Delta t$ was equal to \n",
    "\n",
    "$$ P(\\text{infection}) = 1 - (1-p)^{i_{t}}$$\n",
    "\n",
    "Lets create a function to compute this probability.\n",
    "The inputs will be $p$, the probability that the pathogen infects a susceptible after contact with an infectors and $i_{t}$ the number of infectors in the system.  "
   ]
  },
  {
   "cell_type": "code",
   "execution_count": 48,
   "metadata": {},
   "outputs": [],
   "source": [
    "def pr_inf(p,i):\n",
    "    return 1 - (1-p)**i"
   ]
  },
  {
   "cell_type": "markdown",
   "metadata": {},
   "source": [
    "Let $ P(\\text{infection})$ be the probability of a \"success\" and the number of \"trials\" be the number of susceptibles in the system. \n",
    "Then the number of infectors at $t + \\Delta t$ follows a binomial distribution. "
   ]
  },
  {
   "cell_type": "markdown",
   "metadata": {},
   "source": [
    "$$ I_{t+\\Delta t} \\sim \\text{Binomial}(S_{t}, P(\\text{infection})) $$"
   ]
  },
  {
   "cell_type": "markdown",
   "metadata": {},
   "source": [
    " We can use the numpy module to draw random numbers according to a Binomial distribution. \n",
    " First we will import numpy and rename this module np."
   ]
  },
  {
   "cell_type": "code",
   "execution_count": 49,
   "metadata": {},
   "outputs": [],
   "source": [
    "import numpy as np"
   ]
  },
  {
   "cell_type": "markdown",
   "metadata": {},
   "source": [
    "In the numpy module there is a submodule called random that contains a function for drawing random values according to a Binomial distribution. \n",
    "\n",
    "As an example, we can simulate 1000 values according to a Binomial(10,0.5) distribution and plot a histogram of the values.  "
   ]
  },
  {
   "cell_type": "code",
   "execution_count": 50,
   "metadata": {},
   "outputs": [
    {
     "data": {
      "image/png": "[encoded data removed]",
      "text/plain": [
       "<Figure size 640x480 with 1 Axes>"
      ]
     },
     "metadata": {},
     "output_type": "display_data"
    }
   ],
   "source": [
    "random_num_according_to_binom = np.random.binomial( n=10, p= 0.5, size=(1000,) )\n",
    "plt.hist(random_num_according_to_binom)\n",
    "plt.show()"
   ]
  },
  {
   "cell_type": "markdown",
   "metadata": {},
   "source": [
    "We can use a random draw from the Binomial distribution to determine the number of infectors at time $t + \\Delta t$. "
   ]
  },
  {
   "cell_type": "code",
   "execution_count": 51,
   "metadata": {},
   "outputs": [],
   "source": [
    "num_of_sus_at_time_t = s[-1] ## <- why? \n",
    "num_of_inf_at_time_t = i[-1] ## <- why? \n",
    "\n",
    "i__t_plusDelta = np.random.binomial( n=num_of_sus_at_time_t\n",
    "                                    ,p=pr_inf(p,num_of_inf_at_time_t) )\n"
   ]
  },
  {
   "cell_type": "markdown",
   "metadata": {},
   "source": [
    "Now that we know the number of infectors at the next time step---$i_{t_\\Delta t}$---we can compute the number of susceptibles at the next time step and the number of removed at the next time step. "
   ]
  },
  {
   "cell_type": "code",
   "execution_count": 52,
   "metadata": {},
   "outputs": [],
   "source": [
    "s__t_plusDelta = num_of_sus_at_time_t-i__t_plusDelta #<-- why?\n",
    "r__t_plusDelta = r[-1] + num_of_inf_at_time_t        #<-- why?"
   ]
  },
  {
   "cell_type": "markdown",
   "metadata": {},
   "source": [
    "The final step is to run the above three steps over and over until the desired length of time. \n",
    "Lets set $t=0$, assume a time step $(\\Delta t)$ equal to 1 week, and run the above model for 32 weeks. \n",
    "\n",
    "We can run a piece of code over and over using a for loop. \n",
    "A for loops contains two pieces: a list (at least one) to loop over and the (indented) code to repeat over and over."
   ]
  },
  {
   "cell_type": "code",
   "execution_count": 53,
   "metadata": {},
   "outputs": [],
   "source": [
    "start = 0\n",
    "end   = 32\n",
    "step  = 1\n",
    "\n",
    "for t in np.arange(start,end,step): #<--Whats this function doing? \n",
    "    #--simulate the number of infectors at time t+delta\n",
    "    num_of_sus_at_time_t = s[-1] ## <- why? \n",
    "    num_of_inf_at_time_t = i[-1] ## <- why? \n",
    "    \n",
    "    i__t_plusDelta = np.random.binomial( n=num_of_sus_at_time_t\n",
    "                                        ,p=pr_inf(p,num_of_inf_at_time_t) )\n",
    "        \n",
    "    #--compute the number of susceptibles at time t+delta\n",
    "    s__t_plusDelta = num_of_sus_at_time_t-i__t_plusDelta\n",
    "\n",
    "    #--compute the number of removed at time t+delta\n",
    "    r__t_plusDelta = r[-1] + num_of_inf_at_time_t\n",
    "\n",
    "    #--add the results to our lists. \n",
    "    s.append(s__t_plusDelta)\n",
    "    i.append(i__t_plusDelta)\n",
    "    r.append(r__t_plusDelta)"
   ]
  },
  {
   "cell_type": "markdown",
   "metadata": {},
   "source": [
    "Now we have three lists: s,i,r that count the number of susceptible, infected, and removed individuals over 32 weeks. \n",
    "We can plot the number of infected as "
   ]
  },
  {
   "cell_type": "code",
   "execution_count": 54,
   "metadata": {},
   "outputs": [
    {
     "data": {
      "image/png": "[encoded data removed]",
      "text/plain": [
       "<Figure size 640x480 with 1 Axes>"
      ]
     },
     "metadata": {},
     "output_type": "display_data"
    }
   ],
   "source": [
    "plt.plot(i)\n",
    "plt.xlabel(\"Time (weeks)\")\n",
    "plt.ylabel(\"Number of infectors\")\n",
    "plt.show()"
   ]
  },
  {
   "cell_type": "markdown",
   "metadata": {
    "editable": true,
    "slideshow": {
     "slide_type": ""
    },
    "tags": []
   },
   "source": [
    "## Homework\n",
    "\n",
    "1. Package the above Reed-Frost model into a single function.\n",
    "   1. The function will take 8 inputs: $s0,i0,r0,N,p,start,end,step$\n",
    "   2. The function will return a tuple of susceptibles, infectors, removeds\n",
    "2. Run your packaged function 100 times\n",
    "   1. With the following parameters s0=99,i0=1,r0=0,p=0.015,N=100,start=0,end=32,step=1\n",
    "   2. For each of the 100 runs, plot the number of infectors  \n",
    "      1. Label the horizontal and vertical axes.\n",
    "      2. All plotted lines should be a single color.\n",
    "      3. Set the transparency of each line to 0.25\n",
    "3. From (2), please describe what you see. Why?\n",
    "4. Set the parameter from (2) to be the same as 2.a. except p=0.009. Plot 100 lines.\n",
    "5. From (4), please describe what you see. Why?"
   ]
  },
  {
   "cell_type": "code",
   "execution_count": null,
   "metadata": {},
   "outputs": [],
   "source": []
  }
 ],
 "metadata": {
  "kernelspec": {
   "display_name": "Python 3 (ipykernel)",
   "language": "python",
   "name": "python3"
  },
  "language_info": {
   "codemirror_mode": {
    "name": "ipython",
    "version": 3
   },
   "file_extension": ".py",
   "mimetype": "text/x-python",
   "name": "python",
   "nbconvert_exporter": "python",
   "pygments_lexer": "ipython3",
   "version": "3.10.8"
  }
 },
 "nbformat": 4,
 "nbformat_minor": 4
}
