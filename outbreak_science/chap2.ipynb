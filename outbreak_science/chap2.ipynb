{
 "cells": [
  {
   "cell_type": "markdown",
   "metadata": {},
   "source": [
    "# Chapter One - Reed-Frost dynamics"
   ]
  },
  {
   "cell_type": "markdown",
   "metadata": {
    "slideshow": {
     "slide_type": ""
    },
    "tags": []
   },
   "source": [
    "## Contents:\n",
    "* [Assumptions and setup](#Assumptions-and-setup)\n",
    "* [Probability of escape and infection](#Probability-of-escape-and-infection)\n",
    "* [Initial Conditions](#Initial-Conditions)\n",
    "* [Evolution](#Evolution)\n",
    "* [Reed Frost Dynamical System](#Reed-Frost-Dynamical-System)\n",
    "* [Simulation](#Simulation)\n",
    "* [Dynamics assumed at start of outbreak](#Dynamics-assumed-at-start-of-outbreak)\n",
    "* [Mathematics aside](#Mathematics-aside)\n",
    "* [The Basic Reproduction number and link to outbreaks](#The-Basic-Reproduction-number-and-link-to-outbreaks) \n",
    "* [Relationship between Reproduction number and outbreak](#Relationship-between-Reproduction-number-and-outbreak)\n",
    "* [The Effective Reproduction number and Herd Immunity](#The-Effective-Reproduction-number-and-Herd-Immunity)\n",
    "* [The growth rate and estimating the basic reproduction number at the onset of an outbreak](#The-growth-rate-and-estimating-the-basic-reproduction-number-at-the-onset-of-an-outbreak) \n",
    "* [The ability to study epidemic chains and household transmission](#The-ability-to-study-epidemic-chains-and-household-transmission)\n",
    "* [Homework](#Homework)"
   ]
  },
  {
   "cell_type": "code",
   "execution_count": 1,
   "metadata": {
    "tags": [
     "hide-input"
    ]
   },
   "outputs": [],
   "source": [
    "import numpy as np\n",
    "import matplotlib.pyplot as plt \n",
    "from ipywidgets import interact, interactive, fixed, interact_manual\n",
    "import ipywidgets as widgets\n",
    "from ipywidgets.embed import embed_minimal_html"
   ]
  },
  {
   "cell_type": "markdown",
   "metadata": {},
   "source": [
    "# Assumptions and setup\n",
    "\n",
    "Suppose that there exists $N$ individuals who can exist in one of three disease states starting at time $0$ and ending at time $T$:\n",
    "1. Susceptible - An individual is not infected at present but can be infected in the future.\n",
    "2. Infected - An individual is infected at present and can infect other susceptible individuals. \n",
    "3. Removed - An individual is no longer susceptible, nor infected, and cannot again become infected. \n",
    "\n",
    "- Assume, for each time unit, that all $N$ individuals come into contact with one another, and that each interaction is independent. \n",
    "When a susceptible comes into contact with an infected, the susceptible individual has a probability $p$ of moving from the susceptible state to the infected state ($S \\to I$). \n",
    "\n",
    "- Assume that if an individual is infected then they (1) are only infected for a single time unit and (2) after that time units ends they are removed. \n",
    "\n",
    "- Assume that the probability of infection should depend on the number of infected individuals in the population."
   ]
  },
  {
   "cell_type": "markdown",
   "metadata": {},
   "source": [
    "# Probability of escape and infection\n",
    "\n",
    "Consider a single susceptible individual. \n",
    "At time $t$, this susceptible individual will contact all $I$ infected individuals. \n",
    "At each contact between the susceptible individual and one of the infected individuals, there is a probabilty $p$ that the infected individual is successfull and infects this suscpetible individual.\n",
    "\n",
    "If $p$ is the probability that an infected individual---often called can infector---can infect this suceptible then the probability that an infector does **not** infect this suscpetible is $1-p$.\n",
    "Then the probability that this susceptible is not infected by the first member in $I$ is $(1-p)$ and the probability that this this susceptible is not infected by the first **and** second infector is \n",
    "\n",
    "$$\n",
    "(1-p) \\times (1-p)\n",
    "$$\n",
    "\n",
    "and so the probability that this suscpetible is not infected by all infectors in $I$ is \n",
    "\n",
    "$$\n",
    "p(\\text{escape}) = (1-p) \\times (1-p)\\times (1-p) \\cdots \\times (1-p) = (1-p)^{I}\n",
    "$$\n",
    "This is typically called the **esape probability**. \n",
    "\n",
    "If $(1-p)^{I}$ is the probability that no infector successfully infects this susceptible then the probability that at least one individual infects this suscpetible is \n",
    "\n",
    "$$\n",
    " p(\\text{infection}) = 1 - \\left[(1-p)^{I}\\right]\n",
    "$$\n",
    "\n",
    "\n",
    "\n",
    "\n"
   ]
  },
  {
   "cell_type": "markdown",
   "metadata": {},
   "source": [
    "# Initial conditions\n",
    "\n",
    "The above assumptions and conditions assume that the $N$ individuals who can exist in one of three disease states may move from one disease state to another *over time*.\n",
    "Let us be explicit, and define the number of individuals in each disease state at time $0$, and define how the number of indivduals in each of the three disease states is expected to change over time. \n",
    "\n",
    "The **initial conditions** assigns a number of individuals to each disease state at time $0$, and is denoted \n",
    "\\begin{align}\n",
    "i_{0} &= i^{0}\\\\ \n",
    "s_{0} &= s^{0}\\\\\n",
    "r_{0} &= r^{0}\n",
    "\\end{align}\n",
    "where lowercase letters denote an observed or realized number of individuals in each disease state at time $0$ (the subscript) and lowercase letters with a superscript denote values between $0$ and $N$. \n",
    "For this model, the sum of the number of individuals in each disease state must equal $N$. "
   ]
  },
  {
   "cell_type": "markdown",
   "metadata": {},
   "source": [
    "# Evolution\n",
    "\n",
    "Now that we have specified, at time $0$, the number of individuals who belong to the susceptible disease state ($s_{0}$), number of individuals who belong to the infected disease state ($i_{0}$), and number of individuals who belong to the removed disease state ($r_{0}$), we must decide the number of individuals at **the next time step**.\n",
    "\n",
    "At time $t$, suppose that there exists $S_{t}$ susceptible individuals. \n",
    "A susceptible individual moves to the infected state with probability $1 - (1-p)^{I_{t}}$ (see above section on escape). \n",
    "Further, we assume that for each susceptible the probability of moving to the infected state is independent. \n",
    "If we define \"success\" as $1 - (1-p)^{I_{t}}$ and the number of trials as $S_{t}$ then the **number of infected individuals at time $t+1$ or $I_{t+1}$** has a Binomial distribution, \n",
    "\n",
    "\\begin{align}\n",
    "I_{t+1} &\\sim \\text{Bin}\\left(S_{t}, \\left[1 - (1-p)^{I_{t}}\\right] \\right).\n",
    "\\end{align}\n",
    "\n",
    "Let the observed number of infected individuals at time $t+1$ equal $i_{t+1}$.\n",
    "Then the number of susceptibles at the next time step is then equal to the number of susceptibles at time $t$ minus the number of susceptibles who became infected. \n",
    "\n",
    "\\begin{align}\n",
    "s_{t+1} &= s_{t} - i_{t+1} \\\\ \n",
    "\\end{align}\n",
    "\n",
    "Finally, we assume that at the end of each time unit all infected individuals at time $t$ move to the \"removed\" category. So then, \n",
    "\\begin{align}\n",
    "r_{t+1} &= r_{t}+ i_{t}\n",
    "\\end{align}\n",
    "\n",
    "\n",
    "\n"
   ]
  },
  {
   "cell_type": "markdown",
   "metadata": {},
   "source": [
    "# The Reed Frost Dynamical System\n",
    "\n",
    "The system of equations \n",
    "\\begin{align}\n",
    "I_{t+1} &\\sim \\text{Bin}\\left(S_{t}, \\left[1 - (1-p)^{I_{t}}\\right] \\right)\\\\\n",
    "s_{t+1} &= s_{t} - i_{t+1} \\\\ \n",
    "r_{t+1} &= r_{t}+ i_{t}\n",
    "\\end{align}\n",
    "\n",
    "along with initial conditions \n",
    "\\begin{align}\n",
    "(s^{0}, i^{0},r^{0})\n",
    "\\end{align}\n",
    "\n",
    "define a system called **The Reed Frost Dynamical System**. \n",
    "We note that the captial $I_{t+1}$ indicates that the number of infectors at time $t+1$ is a random variable. \n",
    "After the number of infectors is determined, the number of susceptibles is automatically determined. \n",
    "However, before the number of infectors is selected the number of susceptibles is itself a random variable. \n",
    "\n",
    "One should be careful about when the number of susceptibles at time $t+1$ is a random variable.\n",
    "Before the number of infectors is assigned the number of susceptibles  is a random variable. After the number of infectors is assigned then the number of susceptibles is not random. "
   ]
  },
  {
   "cell_type": "markdown",
   "metadata": {
    "slideshow": {
     "slide_type": ""
    },
    "tags": []
   },
   "source": [
    "# Simulation\n",
    "\n",
    "Below is a simulation of the above Reed Frost Dynamical System.\n",
    "Presented is the number of infected individual at each time unit for a specified number of simulations. \n",
    "At this point, the code (in Python) is not important.\n",
    "\n",
    "Instead, please select different values for $p$, the probability of infection; $i^{0} the initial number of infectors; and sims, the number of unique times to run this Reed Frost System. "
   ]
  },
  {
   "cell_type": "code",
   "execution_count": 2,
   "metadata": {
    "slideshow": {
     "slide_type": ""
    },
    "tags": [
     "hide-input"
    ]
   },
   "outputs": [
    {
     "data": {
      "application/vnd.jupyter.widget-view+json": {
       "model_id": "7bb341c6a9d843d4a90e7774ea654694",
       "version_major": 2,
       "version_minor": 0
      },
      "text/plain": [
       "interactive(children=(IntSlider(value=50, description='sims', min=10, step=10), IntSlider(value=1, description…"
      ]
     },
     "metadata": {},
     "output_type": "display_data"
    },
    {
     "data": {
      "text/plain": [
       "<function __main__.Reed_Frost_Dynamical_system(sims=10, T=15, N=1000, i0=1, p=0.02, show=True)>"
      ]
     },
     "execution_count": 2,
     "metadata": {},
     "output_type": "execute_result"
    }
   ],
   "source": [
    "def Reed_Frost_Dynamical_system(sims=10, T=15, N=1000, i0=1, p=0.02,show=True):\n",
    "    def evolve(T,N,i0,p):\n",
    "        import numpy as np \n",
    "        import matplotlib.pyplot as plt\n",
    "\n",
    "        infectors    = [i0]\n",
    "        removed      = [0]\n",
    "        susceptibles = [N-i0]\n",
    "        for t in range(T):\n",
    "            i_tp1 = np.random.binomial(n=susceptibles[-1], p=1-(1-p)**( infectors[-1] ) , size=1  ) [0]\n",
    "            s_tp1 = susceptibles[-1] - i_tp1\n",
    "            r_tp1 = removed[-1] + infectors[-1]\n",
    "\n",
    "            infectors.append(i_tp1)\n",
    "            susceptibles.append(s_tp1)\n",
    "            removed.append(r_tp1)\n",
    "        infectors = np.array(infectors)\n",
    "\n",
    "        return infectors\n",
    "\n",
    "    fig,ax = plt.subplots()\n",
    "    for _ in range(sims):\n",
    "        infectors = evolve(T,N,i0,p)\n",
    "        ax.plot(infectors)\n",
    "    ax.set_ylim(0,75)\n",
    "    ax.set_xlabel(\"Time units (t)\",fontsize=10)\n",
    "    ax.set_ylabel(\"Number of infectors (It)\",fontsize=10)\n",
    "    if show:\n",
    "        plt.show()\n",
    "    return ax\n",
    "        \n",
    "\n",
    "interact(Reed_Frost_Dynamical_system\n",
    "         ,T=fixed(15)\n",
    "         ,N=fixed(100)\n",
    "         ,r0=fixed(0)\n",
    "         ,sims=widgets.IntSlider(min=10, max=100, step=10, value=50) \n",
    "         ,i0=widgets.IntSlider(min=0, max=20, step=1, value=1) \n",
    "         ,p=(0,0.1,0.00125)\n",
    "        ,show=True)"
   ]
  },
  {
   "cell_type": "markdown",
   "metadata": {
    "slideshow": {
     "slide_type": ""
    },
    "tags": []
   },
   "source": [
    "# Dynamics assumed at start of outbreak\n",
    "\n",
    "At the start of an outbreak, there is a small number of infectors, a large number of susceptible individuals, and (typically) no indiviuals in the removed disease state.\n",
    "One way to represent this state of nature is to assign the following initial conditions\n",
    "$( s^{0} = N-1, i^{0}=1,r^{0}=0)$.\n",
    "\n",
    "Given a probability of infection, $p$, and the above initial conditions, we can explore how the number of infectors changes in the Reed-Frost Dynamical system and how all three disease states behave early during an outbreak (when $T$ is small). \n",
    "\n",
    "\n",
    "We know that in the Reed-Frost model, \n",
    "\n",
    "$I_{t+1} \\sim \\text{Bin}(S_{t}, 1-(1-p)^{I_{t}} )$\n",
    "\n",
    "**Our goal** is to understand the behavior of $I$ when $t$ is small and when $i^0$ is small. \n",
    "\n",
    "\n",
    "First, let $t=0$. Then \n",
    "\n",
    "$I_{1} \\sim \\text{Bin}(S_{0}, 1-(1-p)^{i^{0}} )$\n",
    "\n",
    "In this first time step, the number of initial susceptibles $s^{0}$ is very close to $N$ and so \n",
    "\n",
    "$I_{t+1} \\sim \\text{Bin}(N, 1-(1-p)^{i^{0}} )$\n",
    "\n",
    "--- \n",
    "## Math aside (we need this)\n",
    "\n",
    "We want to simplify $(1-p)^{i^{0}}$ to better understand what this expression means. \n",
    "This expression looks a bit like $x^{a}$. \n",
    "Now the tricks. \n",
    "\n",
    "### Trick 1\n",
    "The exponential function and logarithm are inverses of one another. \n",
    "That is, we are allowed to take the logarithm of an expression (say $x$) followed by the exponential and we will not change the orginal value of our expression. \n",
    "\n",
    "$$\n",
    "x = e^{\\log(x)}\n",
    "$$\n",
    "\n",
    "This means that \n",
    "\n",
    "\\begin{align}\n",
    "x^{a} &= e^{\\log(x^{a})}\\\\\n",
    "      &= e^{a\\log(x)}\n",
    "\\end{align}\n",
    "\n",
    "Finally, an important approximation for the exponential is it's *series* expansion. \n",
    "\n",
    "\\begin{align}\n",
    "    e^{x} \\approx 1 + x + \\frac{x^{2}}{2} + \\frac{x^{3}}{6} + \\cdots = \\sum_{k=1}^{\\infty} \\frac{x^{k}}{k!}\n",
    "\\end{align}\n",
    "\n",
    "where $k!$ is read \"k factorial\" and equals $k! = k\\cdot(k-1)\\cdot(k-2)\\cdots 1$\n",
    "\n",
    "### Trick 2\n",
    "\n",
    "The logarithm of $1-x$ is, when $x$ is small, approximately equal to $-x$ or \n",
    "\n",
    "\\begin{align}\n",
    "       \\log(1-x) &= -x - x^{2}/2 \\cdots \\\\\n",
    "                 &\\approx -x \n",
    "\\end{align}\n",
    "\n",
    "---\n",
    "### We're Back. \n",
    "\n",
    "Lets use the two tricks above to approximate $1-(1-p)^{i^{0}}$ when $p$ is small. \n",
    "\n",
    "\\begin{align}\n",
    "1-(1-p)^{i^{0}} &= 1- e^{ \\log \\left( (1-p)^{i^{0}}\\right)} \\\\ \n",
    "                &= 1- e^{ i^{0} \\log \\left( 1-p\\right)} \\\\\n",
    "                &= 1- e^{ -i^{0}p} \\\\\n",
    "                &= 1- (1-i^{0}p ) \\\\ \n",
    "                &= i^{0}p\n",
    "\\end{align}\n",
    "\n",
    "This means then, when $p$ is small that\n",
    "\n",
    "$I_{1} \\sim \\text{Bin}(N, 1-(1-p)^{i^{0}} )$\n",
    "\n",
    "is close to \n",
    "\n",
    "$I_{1} \\sim \\text{Bin}(N, i^{0}p)$ and so the expected value is equal to \n",
    "\n",
    "\\begin{align}\n",
    "    \\mathbb{E}(I_{1}) = N i^{0}p\n",
    "\\end{align}\n",
    "\n",
    "\n",
    "We can use the same procedure above to find that \n",
    "\n",
    "\\begin{align}\n",
    "\\mathbb{E}\\left(I_{2}\\right) &= N i^{1} p \\\\\n",
    "                             &= N \\left( N i^{0} p \\right) p \\\\ \n",
    "                             &= \\left(Np\\right)^{2} i^{0}\n",
    "\\end{align}\n",
    "\n",
    "and in general \n",
    "\n",
    "\\begin{align}\n",
    "\\mathbb{E}\\left(I_{t+1}\\right)  &= \\left(Np\\right)^{t} i^{0}\n",
    "\\end{align}\n",
    "\n",
    "We can check the accuracy of our approximation above---that $\\mathbb{E}\\left(I_{t+1}\\right) = \\left(Np\\right)^{t} i^{0}$---numerically.\n",
    "Below, we plot the number of infectors over time units for 100 separate simulations. \n",
    "We choose a small $p = 0.0015$ and $N=1000$ individuals in the system. \n",
    "We also plotted in solid black our approximation. "
   ]
  },
  {
   "cell_type": "code",
   "execution_count": 3,
   "metadata": {
    "slideshow": {
     "slide_type": ""
    },
    "tags": [
     "hide-input"
    ]
   },
   "outputs": [
    {
     "data": {
      "image/png": "[encoded data removed]",
      "text/plain": [
       "<Figure size 432x288 with 1 Axes>"
      ]
     },
     "metadata": {
      "needs_background": "light"
     },
     "output_type": "display_data"
    }
   ],
   "source": [
    "N=1000\n",
    "p=0.0015\n",
    "\n",
    "times = np.arange(0,30)\n",
    "\n",
    "ax=Reed_Frost_Dynamical_system(sims=100, T=30, N=1000, i0=1, p=p,show=False)\n",
    "ax.plot( times, (N*p)**(times) ,lw=3, color=\"black\", label =\"Approximation\")\n",
    "ax.set_ylim(0,100)\n",
    "\n",
    "plt.legend()\n",
    "plt.show()"
   ]
  },
  {
   "cell_type": "markdown",
   "metadata": {},
   "source": [
    "We see that our approximation works well for a small number of time units. \n",
    "After $t=10$ our approximaton suggests that the number of infectors will continue to increase. \n",
    "However, after time unit 10 the number of infectors begins to decrease towards zero. \n",
    "Note that not all epidemic trajectories fit this approximation."
   ]
  },
  {
   "cell_type": "markdown",
   "metadata": {},
   "source": [
    "# The Basic Reproduction Number\n",
    "\n",
    "Let us observe 100 simulated epidemic trajectories for the above system (plus parameters) for varying values of $p$. \n",
    "Take a minute to change the parameter value $p$. \n",
    "What do you observe? "
   ]
  },
  {
   "cell_type": "code",
   "execution_count": 4,
   "metadata": {
    "tags": [
     "hide-input"
    ]
   },
   "outputs": [
    {
     "data": {
      "application/vnd.jupyter.widget-view+json": {
       "model_id": "4b39d1f4df614c5083fcbbe455a8a1a1",
       "version_major": 2,
       "version_minor": 0
      },
      "text/plain": [
       "interactive(children=(FloatSlider(value=0.001, description='p', max=0.003, readout_format='.4f', step=0.0005),…"
      ]
     },
     "metadata": {},
     "output_type": "display_data"
    },
    {
     "data": {
      "text/plain": [
       "<function __main__.Reed_Frost_Dynamical_system(sims=10, T=15, N=1000, i0=1, p=0.02, show=True)>"
      ]
     },
     "execution_count": 4,
     "metadata": {},
     "output_type": "execute_result"
    }
   ],
   "source": [
    "interact(Reed_Frost_Dynamical_system\n",
    "         ,T=fixed(30)\n",
    "         ,N=fixed(1000)\n",
    "         ,sims = fixed(100)\n",
    "         ,r0=fixed(0)\n",
    "         ,i0=fixed(1) \n",
    "         ,p=widgets.FloatSlider(value=0.001, min=0, max=3/1000, step=0.5/1000,readout_format='.4f',)\n",
    "        ,show=True)"
   ]
  },
  {
   "cell_type": "markdown",
   "metadata": {},
   "source": [
    "After enough trials, you may see that when the value of $p \\ge 1/1000$ that the number of infectors grows to a peak and then declines. For values smaller than $1/1000$ the infectors never really increase. Instead they decline.\n",
    "\n",
    "The **basic reproduction number** is defined as the average number of individuals who move to the infected state as a result of a single infected individual in a population of all susceptibles. \n",
    "\n",
    "For the Reed-Frost Dynamical System, an approximate reproduction number is \n",
    "$\\mathcal{R}_{0} = \\mathbb{E}(I_{1}) = Np$\n",
    "\n",
    "# Relationship between Reproduction number and outbreak\n",
    "\n",
    "When infections start to take place, public health officials and epidemiologists typically assign this spread of an infectious agent to one of three classifications: an outbreak, an epidemic, a pandemic.  \n",
    "An **outbreak** is defined as a higher-than-expected number of infections present in a local or small region of space on a short time scale. \n",
    "Like an outbreak, an **epidemic** is defined as a higher-than-expected number of infections present in an expansize area or among a large community on a short time scale.\n",
    "A **pandemic** is an outbreak that occurs on a global scale. \n",
    "\n",
    "Lets look closer at\n",
    "$\\mathbb{E}\\left(I_{t+1}\\right) = \\mathcal{R}_{0}^{t} i^{0}$\n",
    "If as assume that the number of initial infectors is one, we have \n",
    "\n",
    "$\\mathbb{E}\\left(I_{t+1}\\right) = \\mathcal{R}_{0}^{t}$\n",
    "\n",
    "where $\\mathcal{R}_{0} = Np$ is a constant.\n",
    "\n",
    "If $\\mathcal{R}_{0} = 1 $ then \n",
    "\\begin{align}\n",
    "\\mathbb{E}\\left(I_{t+1}\\right) &= \\mathcal{R}_{0}^{t}\\\\\n",
    "                               &= 1^{t}\\\\\n",
    "                               &= 1\n",
    "\\end{align}\n",
    "\n",
    "and the number of infectos is a constant, never growing one.\n",
    "\n",
    "If $\\mathcal{R}_{0} < 1 $ then (lets say $\\mathcal{R}=1/2$) \n",
    "\\begin{align}\n",
    "\\mathbb{E}\\left(I_{t+1}\\right) &= \\mathcal{R}_{0}^{t}\\\\\n",
    "                               &= (1/2)^{t}\n",
    "                               \\to 0 \\text{  as  } t \\to \\infty\n",
    "\\end{align}\n",
    "\n",
    "Finally, If $\\mathcal{R}_{0} > 1 $ then (lets say $\\mathcal{R}=2$) \n",
    "\\begin{align}\n",
    "\\mathbb{E}\\left(I_{t+1}\\right) &= \\mathcal{R}_{0}^{t}\\\\\n",
    "                               &= (2)^{t}\n",
    "                               \\to \\infty \\text{  as  } t \\to \\infty\n",
    "\\end{align}\n",
    "\n",
    "Intuitively, in order for an infectious agent to continue to spread it must multiply faster than it is removed from the population. \n",
    "\n"
   ]
  },
  {
   "cell_type": "markdown",
   "metadata": {},
   "source": [
    "# The Effective Reproduction number and Herd Immunity\n",
    "\n",
    "The basic reproduction number, $\\mathcal{R}_{0}$, may not always be a realistic way to characterize whether an infecitous agent will begin to spread within a population. \n",
    "This is because the number (or proportion) of susceptibles in the population may not be close to $N$. \n",
    "For example, if an infectious agent has a $\\mathcal{R}_{0}=3$ then in a fully susceptible population we would expect an infector to infect three susceptibles.\n",
    "However, if the population was immune~(for example vaccinated) to the infectious agent then there are 0 susceptibles. \n",
    "In the case where there are no suscpetibles, the this infecitous agent with $\\mathcal{R}_{0}=3$ would not propogate at all.\n",
    "\n",
    "To characterize the importance of the proportion of susceptibles on thespread of an infectious agent in the population, we define the **effective reproduction number**. \n",
    "The **Effective reproduction number** is the expected number of susceptibles individuals who will get infected at the next time unit. \n",
    "Note, we left out of the above definition the added constraint that the population must be fully susceptible. \n",
    "\n",
    "For the Reed-frost model, the effective repoduction number at time unit $t$ is $\\mathcal{R}_{eff} = S_{t}p$.\n",
    "Where $S_{t}$ is the number of susceptible individuals.\n",
    "\n",
    "Below, lets consider the expected number of infections for $S_{0}$ number of susceptibles. In other words, we do not necesarrily choose to have an entirely suscpetible population ($S_{0} \\approx $ N). \n",
    "\n",
    "\\begin{align}\n",
    "   \\mathbb{E}(I_{t})    &= \\mathcal{R}_{0} = Np > 1      \\\\\n",
    "    S_{0} p &> 1      \\\\\n",
    "    S_{0} &>\\frac{1}{p} \\\\\n",
    "    s_{0} &>\\frac{1}{Np} \\hspace{2em}\\text{(Divide both sides by N)} \\\\\n",
    "    s_{0} &>\\frac{1}{\\mathcal{R}_{0}} \\\\ \n",
    "    1-\\text{immune} &>\\frac{1}{\\mathcal{R}_{0}}\\\\ \n",
    "    \\text{immune} &< 1 - \\frac{1}{\\mathcal{R}_{0}}   \n",
    "\\end{align}\n",
    "\n",
    "where $s_{0}$ is the proportion of susceptibles and $\\text{immune}$ is the proportion of people who are immune. \n",
    "\n",
    "The quantity $q$ is called the **Herd Immunity Threshold** if, for such a value $q$, an outbreak occurs if the proportion of susceptible individuals exceeds $q$ and an outbreak does not occur otherwise. \n",
    "For the Reed-Frost Dynamical system, the Herd Immunity Threshold is $1 - \\frac{1}{\\mathcal{R}_{0}}$. \n",
    "\n",
    "Lets take a look at the effective repoduction number and herd immunity threshold below."
   ]
  },
  {
   "cell_type": "code",
   "execution_count": 5,
   "metadata": {
    "tags": [
     "hide-input"
    ]
   },
   "outputs": [
    {
     "data": {
      "application/vnd.jupyter.widget-view+json": {
       "model_id": "cbc3aa9476d746be81d1ba476e205c84",
       "version_major": 2,
       "version_minor": 0
      },
      "text/plain": [
       "interactive(children=(FloatSlider(value=1.0, description='R0', max=3.0, min=0.5, step=0.125), IntSlider(value=…"
      ]
     },
     "metadata": {},
     "output_type": "display_data"
    },
    {
     "data": {
      "text/plain": [
       "<function __main__.Reed_Frost_Dynamical_system(sims=10, T=15, N=1000, i0=1, R0=1, s0=999, show=True)>"
      ]
     },
     "execution_count": 5,
     "metadata": {},
     "output_type": "execute_result"
    }
   ],
   "source": [
    "def Reed_Frost_Dynamical_system(sims=10, T=15, N=1000, i0=1, R0 = 1, s0=999 ,show=True):\n",
    "    \n",
    "    p  = R0/1000\n",
    "    \n",
    "    Reff = s0*p\n",
    "    HIT = 1 - 1./R0\n",
    "    props = s0/N\n",
    "    \n",
    "    def evolve(T,N,s0,i0,p):\n",
    "        import numpy as np \n",
    "        import matplotlib.pyplot as plt\n",
    "\n",
    "        infectors    = [i0]\n",
    "        susceptibles = [s0]\n",
    "        removed      = [N-(s0+i0)]\n",
    "        for t in range(T):\n",
    "            i_tp1 = np.random.binomial(n=susceptibles[-1], p=1-(1-p)**( infectors[-1] ) , size=1  ) [0]\n",
    "            s_tp1 = susceptibles[-1] - i_tp1\n",
    "            r_tp1 = removed[-1] + infectors[-1]\n",
    "\n",
    "            infectors.append(i_tp1)\n",
    "            susceptibles.append(s_tp1)\n",
    "            removed.append(r_tp1)\n",
    "        infectors = np.array(infectors)\n",
    "\n",
    "        return infectors\n",
    "\n",
    "    fig,ax = plt.subplots()\n",
    "    for _ in range(sims):\n",
    "        infectors = evolve(T,N,s0,i0,p)\n",
    "        ax.plot(infectors)\n",
    "    ax.set_ylim(0,75)\n",
    "    ax.set_xlabel(\"Time units (t)\",fontsize=10)\n",
    "    ax.set_ylabel(\"Number of infectors (It)\",fontsize=10)\n",
    "    ax.text(0.05,0.95,s=r\"Eff. $\\mathcal{R}_{0}$\" +\" = {:.2f}\".format(Reff),ha=\"left\",va=\"top\",transform=ax.transAxes)\n",
    "    \n",
    "    ax.text(0.05,0.85,s=r\"HIT\" +\" = {:.3f}\".format(HIT),ha=\"left\",va=\"top\",transform=ax.transAxes)\n",
    "    ax.text(0.05,0.75,s=r\"s0\" +\" = {:.3f}\".format(props),ha=\"left\",va=\"top\",transform=ax.transAxes)\n",
    "    \n",
    "    ax.text(0.05,0.65,s=r\"Prop Immune\" +\" = {:.3f}\".format(1-props),ha=\"left\",va=\"top\",transform=ax.transAxes)\n",
    "    \n",
    "    \n",
    "    if show:\n",
    "        plt.show()\n",
    "    return ax\n",
    "\n",
    "interact(Reed_Frost_Dynamical_system\n",
    "         ,T =fixed(30)\n",
    "         ,N =fixed(1000)\n",
    "         ,R0=widgets.FloatSlider(value=1, min=0.5, max=3, step=0.125,readout_format='.2f',)\n",
    "         ,sims = fixed(100) \n",
    "         ,i0   = fixed(1) \n",
    "         ,s0   = widgets.IntSlider(min=10, max=1000, step=50, value=1000) \n",
    "        ,show=True)"
   ]
  },
  {
   "cell_type": "markdown",
   "metadata": {},
   "source": [
    "# The growth rate and estimating the basic reproduction number at the onset of an outbreak\n",
    "\n",
    "During the onset of an outbreak, then the majority of individuals are susceptible to infection, we can take advantage of the fact that the expected number of infected individuals equals \n",
    "\n",
    "\\begin{align}\n",
    "    \\mathbb{E}\\left(I_{t+1}\\right) &= \\mathcal{R}_{0}^{t}\n",
    "\\end{align}\n",
    "\n",
    "to estimate the basic reproduction number. \n",
    "\n",
    "We can rearrange the above equation as \n",
    "\\begin{align}\n",
    "    \\log\\left[\\mathbb{E}\\left(I_{t+1}\\right)\\right] &= t\\log\\left[\\mathcal{R}_{0}\\right]. \n",
    "\\end{align}\n",
    "\n",
    "If we plot on the vertical axis the log of the reported number of incident cases per time unit and on the horizontal axis we plot time, then we can estimate a line which was slope equal to $\\log\\left[\\mathcal{R}_{0}\\right]$, or \n",
    "\n",
    "\\begin{align}\n",
    "    \\log\\left[\\mathbb{E}\\left(I_{t+1}\\right)\\right] &= t\\log\\left[\\mathcal{R}_{0}\\right]\\\\ \n",
    "                                                  y &= t \\cdot \\text{slope}\n",
    "\\end{align}\n",
    "\n",
    "Below, we simulate data from the Reed-Frost model and fit this line. \n",
    "We output a point estimate of the basic reproduction number. "
   ]
  },
  {
   "cell_type": "code",
   "execution_count": 6,
   "metadata": {
    "tags": [
     "hide-input"
    ]
   },
   "outputs": [
    {
     "data": {
      "application/vnd.jupyter.widget-view+json": {
       "model_id": "29660da8840742bf902e44f095651be1",
       "version_major": 2,
       "version_minor": 0
      },
      "text/plain": [
       "interactive(children=(IntSlider(value=1, description='i0', max=3, min=-1), FloatSlider(value=1.5, description=…"
      ]
     },
     "metadata": {},
     "output_type": "display_data"
    },
    {
     "data": {
      "text/plain": [
       "<function __main__.Reed_Frost_Dynamical_system(sims=10, T=15, N=1000, i0=1, R0=1.25, show=True)>"
      ]
     },
     "execution_count": 6,
     "metadata": {},
     "output_type": "execute_result"
    }
   ],
   "source": [
    "def Reed_Frost_Dynamical_system(sims=10, T=15, N=1000, i0=1, R0=1.25,show=True):\n",
    "    \n",
    "    p = R0/N\n",
    "    \n",
    "    def evolve(T,N,i0,p):\n",
    "        import numpy as np \n",
    "        import matplotlib.pyplot as plt\n",
    "\n",
    "        infectors    = [i0]\n",
    "        removed      = [0]\n",
    "        susceptibles = [N-i0]\n",
    "        for t in range(T):\n",
    "            i_tp1 = np.random.binomial(n=susceptibles[-1], p=1-(1-p)**( infectors[-1] ) , size=1  ) [0]\n",
    "            s_tp1 = susceptibles[-1] - i_tp1\n",
    "            r_tp1 = removed[-1] + infectors[-1]\n",
    "\n",
    "            infectors.append(i_tp1)\n",
    "            susceptibles.append(s_tp1)\n",
    "            removed.append(r_tp1)\n",
    "        infectors = np.array(infectors)\n",
    "\n",
    "        return infectors\n",
    "    \n",
    "    sum_inf = 0\n",
    "    while sum_inf<10:\n",
    "        infectors = evolve(T,N,i0,p)\n",
    "        sum_inf = np.sum(infectors)\n",
    "        \n",
    "        t_where = np.argmax(infectors)\n",
    "        \n",
    "        Ct = np.log(infectors[:t_where]+0.1)\n",
    "        \n",
    "   \n",
    "    fig,axs = plt.subplots(1,2)\n",
    "   \n",
    "    ax=axs[0]\n",
    "    ax.plot(infectors, 'ko')\n",
    "    ax.set_xlabel(\"Time units (t)\",fontsize=10)\n",
    "    ax.set_ylabel(\"Number of infectors (It)\",fontsize=10)\n",
    "    \n",
    "    ax = axs[1]\n",
    "    \n",
    "    ax.plot( Ct, 'ko')\n",
    "    ax.set_xlabel(\"Time units (t)\",fontsize=10)\n",
    "    ax.set_ylabel(\"Number of infectors (It)\",fontsize=10)\n",
    "\n",
    "    import statsmodels.formula.api as smf\n",
    "    import pandas as pd\n",
    "    \n",
    "    times = np.arange(t_where)\n",
    "    df = pd.DataFrame({\"t\":times,\"cases\":Ct[:t_where]})\n",
    "    mod = smf.ols(formula='cases~t-1', data=df)\n",
    "    res = mod.fit()\n",
    "    \n",
    "    slope = float(res.params)\n",
    "    plt.plot(times, slope*times  )\n",
    "    \n",
    "    ax.text(0.05,0.95,s=r\"$\\hat{\\mathcal{R}_{0}}$=\"+\"{:.1f}\".format(np.exp(slope))\n",
    "            ,ha=\"left\"\n",
    "            ,va=\"top\"\n",
    "            ,transform=ax.transAxes\n",
    "           ,fontsize=10)\n",
    "    \n",
    "    print(\"Data\")\n",
    "    print(infectors)\n",
    "    if show:\n",
    "        plt.show()\n",
    "    return ax\n",
    "\n",
    "interact(Reed_Frost_Dynamical_system,\n",
    "         sims=fixed(1), T=fixed(30), N=fixed(1000), i0=1, R0=widgets.FloatSlider(value=1.5, min=0.5, max=3, step=0.5,readout_format='.2f',),show=True)"
   ]
  },
  {
   "cell_type": "markdown",
   "metadata": {
    "slideshow": {
     "slide_type": ""
    },
    "tags": []
   },
   "source": [
    "# The ability to study epidemic chains\n",
    "\n",
    "Define an **epidemic chain** as the number of infected individuals over discrete time units. \n",
    "We will denote an epidemic chain as $i^{1}-i^{2}-i^{3}-i^{4}-i^{5}-\\cdots$\n",
    "where $i^{1}$ specifies the number of infected individuals within the first time unit, $i^{2}$ specifies the number of infected within the second time units and so on. \n",
    "\n",
    "*For example*, if we consider a household of 4 individuals then a feasible chain is \n",
    "1-2-1 and can be read \"one individual was infected. This indiviudal infected two household members, and one of these two household members (not the original infected individual) infected the last household member who was still susceptible.\". There are many possible epidemic chains for a household of four individuals. More examples include: 3- or \"Three individuals were infected in one time unit and none after\"; 1-1-2 or \"One individual infected another and this second individal infected the remaining two individuals\". \n",
    "\n",
    "To compute the probability of an epidemic chain, we defer to the Reed-Frost model. \n",
    "\n",
    "\\begin{align}\n",
    "    P( 1-2-1 ) &= P(I_{1} = 2 | S_{0}=4, I_{0}=1) \\times P(I_{2} = 1 | S_{1}=2, I_{1}=2)\\\\\n",
    "               &= \\text{Bin}\\left( 2 ; S=4, \\theta= \\left[1 - (1-p)^{1}\\right] \\right) \\times \\text{Bin}\\left( 1 ; S=2, \\theta= \\left[1 - (1-p)^{2}\\right] \\right)      \n",
    "\\end{align}\n",
    "\n",
    "If the probabiltiy of infection equals $p=0.1$ then we can compute the above two binomial probabilities (For example, a free calculator is here = [https://homepage.divms.uiowa.edu/~mbognar/applets/bin.html](https://homepage.divms.uiowa.edu/~mbognar/applets/bin.html), and find that \n",
    "\n",
    "\\begin{align}\n",
    " P( 1-2-1 ) = 0.0486 \\times 0.3078 = 0.0149\n",
    "\\end{align}"
   ]
  },
  {
   "cell_type": "markdown",
   "metadata": {
    "slideshow": {
     "slide_type": ""
    },
    "tags": []
   },
   "source": [
    "# Homework\n",
    "\n",
    "1.  Please compute the probability of escape for a single susceptible indiviual given\n",
    "    1.  $p=1/10$\n",
    "    2.  $p=1/100$\n",
    "2. Please compute the probability that a susceptible is infected by at least one infector given:\n",
    "    1. There are 5 infectors and $p=1/10$\n",
    "    2. There are 0 infectors and $p=1/10$\n",
    "    3. There are 2 infectors and $p=1/20$\n",
    "3. An alternative to the Reed-Frost model is Greenwood's model. For Greenwood's, the probability of infection is equal to $p$ and not $1-(1-p)^I_{t}$ as it is in the Reed-Frost Dynamical System. That is, Greenwood's model assumes exposure to two or infectors is equivalent to exposure of a single infector. In a brief 2-3 sentences, please describe when Greenwood's model may an appropriate model of the spread of a pathogen (as opposed to the Reed-Frost model). \n",
    "4. In the section `Dynamics assumed at start of outbreak' we made assumptions about $S_{0}$ and the form of $1-(1-p)^{i_{0}}$ to arrive at an approximation solution for how an epidemic grows. To arrive at a better approximation, please recompute the dynamics at the start of an outbreak using the following, more accurate, assumptions\n",
    "\\begin{align}\n",
    "    S_{0} &= (N-1)\\\\\n",
    "    e^{x} &\\approx 1 + x + \\frac{x^{2}}{2}\\\\\n",
    "    \\log(1-x) &\\approx -x -\\frac{x^{2}}{2}\n",
    "\\end{align}\n",
    "Your final answer will be a more complicated expression than our original assumptions that led to $Np$.\n",
    "Do you feel that the more complicated mathematical expression that you found is worth the extra computation? Why or why not? \n",
    "\n",
    "5. At the start of the an outbreak, we assumed that there was a sigle infector. How do you expect the dynamics to change if there were more than one infector? Would identifying as many infectors as possible be important to public health? Using ideas from the 'Dynamics assumed at start of outbreak' please justify your answer. \n",
    "\n",
    "6.  In the section \"Relationship between Reproduction number and outbreak.\" we assumed that there was a single infector at the beginning of an outbreak and developed the expression $\\mathbb{E}(I_{t}) = \\mathcal{R}_{0}^{t}$. Please develop a more general expression for the expected number of infectors over time of there are $i^{0}$ infectors. In other words, if there are $i^{0}$ infectors than $\\mathbb{E}(I_{t}) =?$\n",
    "\n",
    "7.  Using your answer from (6), please plot the expected number of infectors for 5 time points, given $p=0.1,N=100,i^{0}=1$, $p=0.1,N=100,i^{0}=2$, and $p=0.1,N=100,i^{0}=0$. Review these three lines: Is it more important to correctly estimate the basic reproduction number or the initial number of infectors? If there a value of the number of infectors that is important to an outbreak? Please justify your answer.  \n",
    "\n",
    "8.  Please compute the Herd Immunity Threshold for the following scenarios\n",
    "    1. There are 5 infectors and $\\mathcal{R}_{0}=1.50$\n",
    "    2. There are 2 infectors and $\\mathcal{R}_{0}=1.25$\n",
    "    3. There are 3 infectors and $\\mathcal{R}_{0}=2.00$\n",
    "    4. There are 0 infectors and $\\mathcal{R}_{0}=2.00$\n",
    "\n",
    "\n",
    "9. \n",
    "When we computed conditions for when an the number of expected infectors would increase (i.e. when an outbreak will take place) we used several assumptions: (1) the number of susceptibles is close to $N$, (2) the probability of infection is small. Lets investigate how the conditions for an outbreak would change if we removed assumptions (1) and (2).<br><br> If we remove assumptions (1) and (2) then we can state that our new condition for an outbreak is when the expected number of infectors at time $1$ is larger than the number of infectors at time $0$ or  \n",
    "\\begin{align}\n",
    "    \\mathbb{E}(I_{1}) = S_{0} \\left[ 1- (1-p)^{I_{0}}\\right] > I_{0}\n",
    "\\end{align}\n",
    "\n",
    "    Assume that at time $0$ there are only susceptibles and infectors or $S_{0}+I_{0}=N$, and rewrite the above such that \n",
    "\n",
    "\\begin{align}\n",
    "    \\mathbb{E}(I_{1}) = S_{0} \\left[ 1- (1-p)^{I_{0}}\\right] > N - S_{0}\n",
    "\\end{align}\n",
    "\n",
    "   9.1. Please continue to solve the above inequality until there is a $S_{0}$, alone, on the left of the inequality. \n",
    "   \n",
    "   9.2. Assume that $N=1000$, the number of infectors at time 0 equals 200, and $p=0.002$. Will an outbreak occur? Why or why not?\n",
    "   \n",
    "   9.3. Assume that $N=1000$, the number of infectors at time 0 equals 400, and $p=0.002$. Will an outbreak occur? Why or why not?\n",
    "   \n",
    "   9.4. Based on your answers to (2) and (3) above, please comment on how the initial number of infectors may determine whether or not an outbreak occurs? Suppose you are a public health official, what do these observations mean for potential directives to the general public?  \n",
    "  \n",
    "\n",
    "10. During the 2022 mpox outbreak, the Centers for Disease Control and Prevention (CDC) collected he number of incident cases of mpox and stored that data here = [https://www.cdc.gov/poxvirus/mpox/response/2022/mpx-trends.html](https://www.cdc.gov/poxvirus/mpox/response/2022/mpx-trends.html). The data for the first 100 days from 05/10/2022 to 08/16/2022 is stored on course site. Please use this data to estimate the basic reproduction number for the 2022 mpox outbreak in the US. Note: Excel can compute the needed estimate of slope.  \n",
    "\n",
    "11. Given, N=5 and p=0.10, please compute the probability of the following epidemic chains\n",
    "   1. 1-2-1\n",
    "   2. 1-0\n",
    "   3. 0-1-2\n",
    "   4. 2-1-1-1"
   ]
  }
 ],
 "metadata": {
  "celltoolbar": "Tags",
  "kernelspec": {
   "display_name": "Python 3 (ipykernel)",
   "language": "python",
   "name": "python3"
  },
  "language_info": {
   "codemirror_mode": {
    "name": "ipython",
    "version": 3
   },
   "file_extension": ".py",
   "mimetype": "text/x-python",
   "name": "python",
   "nbconvert_exporter": "python",
   "pygments_lexer": "ipython3",
   "version": "3.9.15"
  }
 },
 "nbformat": 4,
 "nbformat_minor": 4
}
