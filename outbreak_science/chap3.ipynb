{
 "cells": [
  {
   "cell_type": "markdown",
   "metadata": {},
   "source": [
    "### Chapter three -  Compartmental models,"
   ]
  },
  {
   "cell_type": "markdown",
   "metadata": {},
   "source": [
    "#### Frequency vs Density Dependent Transmission \n",
    "\n",
    "Suppose that $N$ individuals can be captured in a square space with area equal to $A$.\n",
    "We define the density, $\\rho$, as the number of individuals per unit area or \n",
    "\\begin{align}\n",
    "    \\rho = \\frac{N}{A}\n",
    "\\end{align}\n",
    "For fixed $N$, the larger the area (A) the smaller the density and vice-versa. \n",
    "\n",
    "Further, define the average number of contacts per unit time between two individuals as the value $C$ and the probability that an infection takes place (called transmission) equals $p$. \n",
    "\n",
    "For one susceptible individual, we suppose that they come into contact with $C$ other individuals. \n",
    "Then the number of times that they contact an infector is $C \\cdot \\frac{I}{N}$. \n",
    "If we let $p$ denote the probability of transmission then the probability that a susceptible is infected equals \n",
    "\\begin{align}\n",
    "    1 - (1-p)^{ C \\cdot \\frac{I}{N} }\n",
    "\\end{align}\n",
    "\n",
    "Just as we for the Reed-Frost model, we can approximate the above as \n",
    "\n",
    "\\begin{align}\n",
    "    1 - (1-p)^{ C \\cdot \\frac{I}{N} } &\\approx 1 - e^{ -p \\cdot C \\cdot \\frac{I}{N} } \\\\ \n",
    "                                      &\\approx  -p \\cdot C \\cdot \\frac{I}{N} \\\\ \n",
    "                                      &\\approx  \\beta \\cdot \\frac{I}{N} \\\\\n",
    "\\end{align}\n",
    "\n",
    "where we replaced the average number of contacts that result in transmission $pC$ with the parameter $\\beta$. \n",
    "The above expression is the average rate at which a single susceptible individual is infected. \n",
    "If there are $S$ susceptible individuals making independent $C$ contacts then the average rate for the number of susceptibles to move to the infected state is \n",
    "\n",
    "\\begin{align}\n",
    "   \\frac{dI}{dt}  &= S \\beta \\frac{I}{N}\n",
    "\\end{align}\n",
    "\n",
    "where $\\frac{dI}{dt}$ is read \"The derivative of I with respect to time\" and is meant to express the change in the average number of infectors for a small unit of time. \n",
    "\n",
    "\n",
    "\n",
    "Because $N = \\rho A$ we can furhter \n",
    "\n",
    "\n",
    "\n",
    "\n",
    "\n",
    "we suppose that the probability that they are infected is equal to the average number of contacts which result in a transmission (or $p \\cdot C$) times the probability that a susceptible comes into contact with an infector ($I/N$).\n",
    "\n",
    "\n",
    "\n",
    "Then the probability of infection for a susceptible equals \n",
    "\\begin{align}\n",
    "    pC \\frac{I}{N}\n",
    "\\end{align}\n",
    "\n",
    "\n",
    "average rate of infections is equal to the average number of contacts which result in a transmission (or $p*C$) times the probability  \n",
    "\n",
    "\n"
   ]
  },
  {
   "cell_type": "code",
   "execution_count": null,
   "metadata": {},
   "outputs": [],
   "source": [
    "#### SIR model "
   ]
  },
  {
   "cell_type": "code",
   "execution_count": null,
   "metadata": {},
   "outputs": [],
   "source": [
    "#### SI model (Infection-induced mortality)"
   ]
  },
  {
   "cell_type": "code",
   "execution_count": null,
   "metadata": {},
   "outputs": [],
   "source": [
    "#### SEIR model "
   ]
  },
  {
   "cell_type": "code",
   "execution_count": null,
   "metadata": {},
   "outputs": [],
   "source": [
    "#### Conditions for an outbreak and Herd Immunity Threshold "
   ]
  },
  {
   "cell_type": "code",
   "execution_count": null,
   "metadata": {},
   "outputs": [],
   "source": [
    "#### Epidemic burnout "
   ]
  },
  {
   "cell_type": "code",
   "execution_count": null,
   "metadata": {},
   "outputs": [],
   "source": [
    "#### Demography and endemic equilibirum "
   ]
  },
  {
   "cell_type": "code",
   "execution_count": null,
   "metadata": {},
   "outputs": [],
   "source": [
    "#### Estimating R0 from observations "
   ]
  }
 ],
 "metadata": {
  "kernelspec": {
   "display_name": "Python 3 (ipykernel)",
   "language": "python",
   "name": "python3"
  },
  "language_info": {
   "codemirror_mode": {
    "name": "ipython",
    "version": 3
   },
   "file_extension": ".py",
   "mimetype": "text/x-python",
   "name": "python",
   "nbconvert_exporter": "python",
   "pygments_lexer": "ipython3",
   "version": "3.9.15"
  }
 },
 "nbformat": 4,
 "nbformat_minor": 4
}
