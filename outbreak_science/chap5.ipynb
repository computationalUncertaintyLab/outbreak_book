{
 "cells": [
  {
   "cell_type": "markdown",
   "id": "8ea84077-9e12-45ce-9aa6-d8b09953a239",
   "metadata": {},
   "source": [
    "# Chapter four - Montecarlo sampling and the Reed-Frost model under intervention"
   ]
  },
  {
   "cell_type": "markdown",
   "id": "c0f6b2e1-6edd-4ba2-9733-9f4523e01249",
   "metadata": {},
   "source": [
    "We saw in the last chapter that the Reed-frost model is a powerful tool for understanding how an outbreak unfolds and the role of uncertainty in outbreak dynamics.\n",
    "However, the Reed-Frost model is flexible.\n",
    "We will see how can add timed interventions to this model. \n",
    "In addition, we will learn about a powerful tool called Monte carlo sampling that can be used to estimate difficult-to-compute probabilities.  \n",
    "\n",
    "Lets look at how we can model public health interventions during the course of a pathogen to alter (hopefully reduce) the number of infectors over time. "
   ]
  },
  {
   "cell_type": "markdown",
   "id": "1c87b44c-ff56-4bb6-bacf-7233a54dbea9",
   "metadata": {},
   "source": [
    "## Adding an intervention\n",
    "\n",
    "Suppose we observe s,i,r from a Reed-frost model from 0 to T (which we will call the observational period). \n",
    "\n",
    "Furter, suppose that we decide to add an intervention at time $t^{*}$.\n",
    "This intervention is such that it lower the probability of transmission $(p)$ by 50\\%, and the intervention permanently lowers $p$ by 50\\% from $t^{*}$ to the end of the observational period. \n",
    "\n",
    "Previously, we set initial conditions for s,i,r; a probability of transmission, and an observational period. The code below is copy/pasted from the previous chapter. "
   ]
  },
  {
   "cell_type": "code",
   "execution_count": 95,
   "id": "6a90e846-3190-4755-b418-78f078c54f37",
   "metadata": {},
   "outputs": [],
   "source": [
    "#--initial conditions\n",
    "s0 = 100\n",
    "i0 = 1\n",
    "r0 = 0\n",
    "\n",
    "#--probability of transmission\n",
    "p=0.015\n",
    "\n",
    "#--create three lists and add the initial number of s,i,r to each list. \n",
    "s = [s0]\n",
    "i = [i0]\n",
    "r = [r0]\n",
    "\n",
    "def pr_inf(p,i):\n",
    "    return 1 - (1-p)**i\n",
    "\n",
    "start = 0\n",
    "end   = 32\n",
    "step  = 1\n",
    "\n",
    "for t in np.arange(start,end,step): #<--Whats this function doing? \n",
    "    #--simulate the number of infectors at time t+delta\n",
    "    num_of_sus_at_time_t = s[-1] ## <- why? \n",
    "    num_of_inf_at_time_t = i[-1] ## <- why? \n",
    "    \n",
    "    i__t_plusDelta = np.random.binomial( n=num_of_sus_at_time_t\n",
    "                                        ,p=pr_inf(p,num_of_inf_at_time_t) )\n",
    "        \n",
    "    #--compute the number of susceptibles at time t+delta\n",
    "    s__t_plusDelta = num_of_sus_at_time_t-i__t_plusDelta\n",
    "\n",
    "    #--compute the number of removed at time t+delta\n",
    "    r__t_plusDelta = r[-1] + num_of_inf_at_time_t\n",
    "\n",
    "    #--add the results to our lists. \n",
    "    s.append(s__t_plusDelta)\n",
    "    i.append(i__t_plusDelta)\n",
    "    r.append(r__t_plusDelta)"
   ]
  },
  {
   "cell_type": "markdown",
   "id": "3ccc7391-6eab-43d7-92a1-86023343fb34",
   "metadata": {},
   "source": [
    "To add in an intervention, we will change the probability of transmission $p$ from $p=0.015$ to p = $0.015*(1/2) = 0.0075$ at $t^{*}$. \n",
    "\n",
    "Lets assume that the intervention is started at time $t^{*}=10$. \n",
    "\n",
    "We can use an if/else statement to add in an intervention. \n",
    "As the above for loops cycles through times $t=0,1,2,3,4$ and so on, we will check that $t \\ge 10$. When this condition is true we will set $p=0.015 \\cdot (1/2)$ and otherwise set $p=0.015$. \n"
   ]
  },
  {
   "cell_type": "code",
   "execution_count": 96,
   "id": "e9e97ba6-c947-405a-8d5c-515365d9728d",
   "metadata": {},
   "outputs": [],
   "source": [
    "#--initial conditions\n",
    "s0 = 100\n",
    "i0 = 1\n",
    "r0 = 0\n",
    "\n",
    "#--probability of transmission\n",
    "p                         = 0.02\n",
    "reduction_by_intervention = 0.50                        #<--new line here\n",
    "time_of_intervention      = 10                          #<--new line here\n",
    "p_intervention            = p*reduction_by_intervention #<--new line here\n",
    "\n",
    "#--create three lists and add the initial number of s,i,r to each list. \n",
    "s = [s0]\n",
    "i = [i0]\n",
    "r = [r0]\n",
    "\n",
    "#--function for the probability of infection\n",
    "def pr_inf(p,i):\n",
    "    return 1 - (1-p)**i\n",
    "\n",
    "#--observational period\n",
    "start = 0\n",
    "end   = 32\n",
    "step  = 1\n",
    "\n",
    "for t in np.arange(start,end,step): #<--Whats this function doing? \n",
    "    #--is t greater than t*? Is so then reduce p\n",
    "    if t>=time_of_intervention:\n",
    "        ptrans = p_intervention\n",
    "    else:\n",
    "        ptrans = p\n",
    "    \n",
    "    #--simulate the number of infectors at time t+delta\n",
    "    num_of_sus_at_time_t = s[-1] ## <- why? \n",
    "    num_of_inf_at_time_t = i[-1] ## <- why? \n",
    "    \n",
    "    i__t_plusDelta = np.random.binomial( n=num_of_sus_at_time_t\n",
    "                                        ,p=pr_inf(ptrans,num_of_inf_at_time_t) )\n",
    "        \n",
    "    #--compute the number of susceptibles at time t+delta\n",
    "    s__t_plusDelta = num_of_sus_at_time_t-i__t_plusDelta\n",
    "\n",
    "    #--compute the number of removed at time t+delta\n",
    "    r__t_plusDelta = r[-1] + num_of_inf_at_time_t\n",
    "\n",
    "    #--add the results to our lists. \n",
    "    s.append(s__t_plusDelta)\n",
    "    i.append(i__t_plusDelta)\n",
    "    r.append(r__t_plusDelta)"
   ]
  },
  {
   "cell_type": "code",
   "execution_count": 97,
   "id": "361bf9c4-277a-4244-aac9-03376d4aca05",
   "metadata": {},
   "outputs": [
    {
     "data": {
      "text/plain": [
       "<matplotlib.lines.Line2D at 0x13c962020>"
      ]
     },
     "execution_count": 97,
     "metadata": {},
     "output_type": "execute_result"
    },
    {
     "data": {
      "image/png": "[encoded data removed]",
      "text/plain": [
       "<Figure size 640x480 with 1 Axes>"
      ]
     },
     "metadata": {},
     "output_type": "display_data"
    }
   ],
   "source": [
    "plt.plot(i)\n",
    "plt.axvline(10,color=\"black\")"
   ]
  },
  {
   "cell_type": "markdown",
   "id": "132072ed-02b5-4a4e-b4c9-4848b2476235",
   "metadata": {},
   "source": [
    "## When should we initiate our intervention (Monte carlo sampling may help)?\n",
    "\n",
    "Up until now, many probability computations were likely able to be computed \"in closed form\".\n",
    "That is, there was a formula that took inputs (maybe data and parameters) and returned the probability that an event will be observed. \n",
    "Some events, however, do not have a closed form solution.\n",
    "Instead, they need to be approximated. \n",
    "There are many methods for approximating the probabiliy of events. \n",
    "One that we will learn is Monte carlo sampling.\n",
    "\n",
    "Let $E$ be an experiment (the set of all possible events) associated with the final epidemic size.\n",
    "The final epidemic size is defined as the total number of infected individuals after the observational period ends. \n",
    "That is, for observational period $t \\in [\\text{start},\\text{stop}]$, this experiment generates possible values $0,1,2,3,4,5,6,\\cdots N$.  \n",
    "\n",
    "Then, we can think of the above model as an experiment that produces final epidemic sizes (i.e. events). \n",
    "If we wanted to approximate the probability that from the above model we observe a final epidemic size $e^{*}$ then we can run the above model $N$ times and compute the proportion of times we observe a final epidemic size of $e^{*}$.\n",
    "\n",
    "Monte carlo sampling approximates the probability of an event $P(E)$ by sampling a finite number of times from the experiment $A = [e_{1},e_{2},\\cdots,e_{n}]$ and computing \n",
    "$$\n",
    "    P(E) \\approx \\frac{ N(A \\in E)  }{n}\n",
    "$$\n",
    "where $N(A \\in E)$ is the number of times items in the set $A$ appear in the event $E$. \n"
   ]
  },
  {
   "cell_type": "markdown",
   "id": "7d31ad61-998a-4782-a481-ab8486107186",
   "metadata": {},
   "source": [
    "Lets simulate our original Reed-Frost model (without an intervention) 2000 times and store the final epidemic sizes in the list `RF_original_epidemic_size`.\n",
    "Next, we'll simulate our intervention model and store the final epidemic sizes in the list `RF_intervention_epidemic_size`. \n",
    "Then we can compare the performance of our intervention."
   ]
  },
  {
   "cell_type": "markdown",
   "id": "d9a38800-f294-4530-ab3e-ffe49f21e398",
   "metadata": {},
   "source": [
    "We will add to our original model, a list called `RF_original_epidemic_size` and append to this loop the final epidemic size. \n",
    "\n",
    "### Final epidemic size for Original Reed Frost model"
   ]
  },
  {
   "cell_type": "code",
   "execution_count": 98,
   "id": "6dbcce9e-1363-47e7-85e0-df49d762183e",
   "metadata": {},
   "outputs": [],
   "source": [
    "#--initial conditions\n",
    "s0 = 100\n",
    "i0 = 1\n",
    "r0 = 0\n",
    "\n",
    "#--probability of transmission\n",
    "p=0.015\n",
    "def pr_inf(p,i):\n",
    "    return 1 - (1-p)**i\n",
    "\n",
    "start = 0\n",
    "end   = 32\n",
    "step  = 1\n",
    "\n",
    "SIMS = 2000 #<- Number of simulations to run. \n",
    "RF_original_epidemic_size = []\n",
    "\n",
    "for sim in range(SIMS): #<-What does range do? \n",
    "    #--create three lists and add the initial number of s,i,r to each list. \n",
    "    s = [s0]\n",
    "    i = [i0]\n",
    "    r = [r0]\n",
    "    \n",
    "    for t in np.arange(start,end,step): #<--Whats this function doing? \n",
    "        #--simulate the number of infectors at time t+delta\n",
    "        num_of_sus_at_time_t = s[-1] ## <- why? \n",
    "        num_of_inf_at_time_t = i[-1] ## <- why? \n",
    "        \n",
    "        i__t_plusDelta = np.random.binomial( n=num_of_sus_at_time_t\n",
    "                                            ,p=pr_inf(p,num_of_inf_at_time_t) )\n",
    "            \n",
    "        #--compute the number of susceptibles at time t+delta\n",
    "        s__t_plusDelta = num_of_sus_at_time_t-i__t_plusDelta\n",
    "    \n",
    "        #--compute the number of removed at time t+delta\n",
    "        r__t_plusDelta = r[-1] + num_of_inf_at_time_t\n",
    "    \n",
    "        #--add the results to our lists. \n",
    "        s.append(s__t_plusDelta)\n",
    "        i.append(i__t_plusDelta)\n",
    "        r.append(r__t_plusDelta)\n",
    "    #--Model is done running for the observational period. \n",
    "    #--Now we can record the final epidemic size for this run\n",
    "    RF_original_epidemic_size.append( r[-1] ) #<-um, why is it r[-1]?"
   ]
  },
  {
   "cell_type": "markdown",
   "id": "eb57f2ad-7b40-43c0-9974-74fa9de2f123",
   "metadata": {},
   "source": [
    "Now we have all the final epidemic sizes stored in `RF_original_epidemic_size`.\n",
    "Lets look at the (appeoximate) probability distribution of the final epidemic size. "
   ]
  },
  {
   "cell_type": "code",
   "execution_count": 99,
   "id": "d27fb8cb-8553-47ef-8dd9-a7bbb88b40d0",
   "metadata": {},
   "outputs": [
    {
     "data": {
      "image/png": "[encoded data removed]",
      "text/plain": [
       "<Figure size 640x480 with 1 Axes>"
      ]
     },
     "metadata": {},
     "output_type": "display_data"
    }
   ],
   "source": [
    "plt.hist(RF_original_epidemic_size,20,density=True)\n",
    "plt.ylabel(\"Proportion\")\n",
    "plt.xlabel(\"Final epidemic size (RF-model original)\")\n",
    "plt.show()"
   ]
  },
  {
   "cell_type": "code",
   "execution_count": 102,
   "id": "84110db5-55e0-4496-adc7-7abbba457400",
   "metadata": {},
   "outputs": [],
   "source": [
    "#--initial conditions\n",
    "s0 = 100\n",
    "i0 = 1\n",
    "r0 = 0\n",
    "\n",
    "#--probability of transmission\n",
    "p=0.015\n",
    "\n",
    "def pr_inf(p,i):\n",
    "    return 1 - (1-p)**i\n",
    "\n",
    "#--probability of transmission\n",
    "p                         = 0.015\n",
    "reduction_by_intervention = 0.50                        #<--new line here\n",
    "time_of_intervention      = 10                          #<--new line here\n",
    "p_intervention            = p*reduction_by_intervention #<--new line here\n",
    "\n",
    "start = 0\n",
    "end   = 32\n",
    "step  = 1\n",
    "\n",
    "SIMS = 5000 #<- Number of simulations to run. \n",
    "RF_intervention_epidemic_size = []\n",
    "\n",
    "for sim in range(SIMS): #<-What does range do? \n",
    "\n",
    "    #--create three lists and add the initial number of s,i,r to each list. \n",
    "    s = [s0]\n",
    "    i = [i0]\n",
    "    r = [r0]\n",
    "    \n",
    "    for t in np.arange(start,end,step): #<--Whats this function doing? \n",
    "        #--is t greater than t*? Is so then reduce p\n",
    "        if t>=time_of_intervention:\n",
    "            ptrans = p_intervention\n",
    "        else:\n",
    "            ptrans = p\n",
    "        \n",
    "        #--simulate the number of infectors at time t+delta\n",
    "        num_of_sus_at_time_t = s[-1] ## <- why? \n",
    "        num_of_inf_at_time_t = i[-1] ## <- why? \n",
    "        \n",
    "        i__t_plusDelta = np.random.binomial( n=num_of_sus_at_time_t\n",
    "                                            ,p=pr_inf(ptrans,num_of_inf_at_time_t) )\n",
    "                        \n",
    "        #--compute the number of susceptibles at time t+delta\n",
    "        s__t_plusDelta = num_of_sus_at_time_t-i__t_plusDelta\n",
    "    \n",
    "        #--compute the number of removed at time t+delta\n",
    "        r__t_plusDelta = r[-1] + num_of_inf_at_time_t\n",
    "    \n",
    "        #--add the results to our lists. \n",
    "        s.append(s__t_plusDelta)\n",
    "        i.append(i__t_plusDelta)\n",
    "        r.append(r__t_plusDelta)\n",
    "    #--Model is done running for the observational period. \n",
    "    #--Now we can record the final epidemic size for this run\n",
    "    RF_intervention_epidemic_size.append( r[-1] ) #<-umm, why is it r[-1]? "
   ]
  },
  {
   "cell_type": "code",
   "execution_count": 103,
   "id": "f8b6fb5f-981e-426d-a373-deae689b46d4",
   "metadata": {},
   "outputs": [
    {
     "data": {
      "image/png": "[encoded data removed]",
      "text/plain": [
       "<Figure size 640x480 with 1 Axes>"
      ]
     },
     "metadata": {},
     "output_type": "display_data"
    }
   ],
   "source": [
    "plt.hist(RF_intervention_epidemic_size,20,density=True)\n",
    "plt.ylabel(\"Proportion\")\n",
    "plt.xlabel(\"Final epidemic size (RF-model intervention)\")\n",
    "plt.show()"
   ]
  },
  {
   "cell_type": "markdown",
   "id": "51af5dd1-222b-4e20-9468-c6948d557be9",
   "metadata": {},
   "source": [
    "Lets compare the two plots. \n",
    "To do this, we will ask to plot a histogram for both the final size of the original model and the final size of the intervention model *over the same bins*.\n"
   ]
  },
  {
   "cell_type": "code",
   "execution_count": 113,
   "id": "7d136447-bf6e-45cf-9a7c-b44f5028a639",
   "metadata": {},
   "outputs": [
    {
     "data": {
      "image/png": "[encoded data removed]",
      "text/plain": [
       "<Figure size 640x480 with 1 Axes>"
      ]
     },
     "metadata": {},
     "output_type": "display_data"
    }
   ],
   "source": [
    "bins = np.linspace(0,101,20)\n",
    "\n",
    "fig,ax = plt.subplots()\n",
    "ax.hist(RF_original_epidemic_size,bins     ,color=\"red\" , density=True, alpha=0.50,label=\"Orig.\")\n",
    "ax.hist(RF_intervention_epidemic_size,bins ,color=\"blue\", density=True, alpha=0.50,label=\"Inter.\")\n",
    "plt.ylabel(\"Proportion\")\n",
    "plt.xlabel(\"Final epidemic size (RF-model intervention)\")\n",
    "plt.legend()\n",
    "plt.show()"
   ]
  },
  {
   "cell_type": "markdown",
   "id": "e91cb3d7-e6bd-4ece-bcd7-432e83d800ea",
   "metadata": {},
   "source": [
    "# Homework\n",
    "\n",
    "1. Package the intervention model code into a single function.\n",
    "   1. The function will take as inputs: `s0`,`i0`,`r0`, `p`, `start`, `stop`, `step`, `reduction_by_intervention`, `time_of_intervention`. The output will be the lists `s`,`i`,`r`.\n",
    "2. For the model in (1) with the parameters above:\n",
    "   1. Run the model 100 times and plot each time the number of infectors for `reduction_by_intervention` = 1.\n",
    "   2. Run the model 100 times and plot each time the number of infectors for `reduction_by_intervention` = 0.40\n",
    "   3. Describe the differences in the observations and why. What is the model with `reduction_by_intervention` = 1?\n",
    "3. Create a function called `RF_sim` that takes the same parameters as the function that you created in (1) plus a parameter called `SIMS`. This new parameter will define the number of times to run the RF model. This new function will do the following:\n",
    "   1. Run the RF function in (1) SIMS times.\n",
    "   2. Record the time at which the number of infectors is highest. This is called \"peak intensity\".\n",
    "   3. The function returns a tuple: (1) a list of all final epidemic sizes and (2) a list of all peak intensities.   \n",
    "4. Use the function that you created in (3) to decide on the optimal time to launch an intervention. Justify your response (briefly). "
   ]
  }
 ],
 "metadata": {
  "kernelspec": {
   "display_name": "Python 3 (ipykernel)",
   "language": "python",
   "name": "python3"
  },
  "language_info": {
   "codemirror_mode": {
    "name": "ipython",
    "version": 3
   },
   "file_extension": ".py",
   "mimetype": "text/x-python",
   "name": "python",
   "nbconvert_exporter": "python",
   "pygments_lexer": "ipython3",
   "version": "3.10.8"
  }
 },
 "nbformat": 4,
 "nbformat_minor": 5
}
