{
 "cells": [
  {
   "cell_type": "markdown",
   "id": "19b703d4-7d43-46ab-a55f-5fde2b883bdb",
   "metadata": {},
   "source": [
    "# Discrete time Kermack-McKendrick Model\n",
    "\n",
    "```{contents} Table of Contents\n",
    ":depth: 3\n",
    "```"
   ]
  },
  {
   "cell_type": "markdown",
   "id": "5a35ee39-c9c0-4ffa-a155-4e3e7aae55dd",
   "metadata": {},
   "source": [
    "## Why does the SIR assume an exponential distribution for the infectious period?\n",
    "\n",
    "The majority of work with compartmental models assumes that the amound of time an individual spends in a disease state is exponentially distributed. For example, for the SIR model \n",
    "\n",
    "\\begin{align}\n",
    "    \\frac{dS}{dt} &= -\\beta \\frac{SI}{N}  \\\\\n",
    "    \\frac{dI}{dt} &=  \\beta \\frac{SI}{N} - \\gamma I \\\\\n",
    "    \\frac{dR}{dt} &=  \\gamma I\n",
    "\\end{align}\n",
    "\n",
    "after an individual becomes infectious (moves from S to I) they spend on average $1/\\gamma$ time units in this infectious state. However, we may wonder what the density of infectious periods (time spend in the I state) is. \n",
    "The SIR model implicitly assumes that the density of infectious periods is exponential. \n",
    "To see this, for a small increment of time $\\tau$, we assume an individual leaves the infectious state with probability $\\gamma \\tau$. This means that an individual remains infectious for this small period of time $\\tau$ with probability $1-\\gamma \\tau$.\n",
    "Then the probability that an individual is still infectious in the interval $t + \\tau$ is the probability that they remain infectious in the interval $[0,\\tau],[\\tau,2\\tau],[2\\tau,3\\tau],\\cdots,[t-\\tau ,t]$ equals $p(\\text{still infectious}) = (1-\\gamma \\tau)^{t/\\tau}$ and so the probability that they are no longer infectious in the interval $[t,t+\\tau]$ is \n",
    "\n",
    "\\begin{align}\n",
    "    p( \\text{no longer infectious} \\in [t,t+\\tau] )  = \\gamma \\tau (1-\\gamma \\tau)^{t/\\tau}\n",
    "\\end{align}\n",
    "\n",
    "For continuous time, when $\\tau$ moves towards infinity, from calculus we know that \n",
    "\n",
    "\\begin{align}\n",
    "   \\lim_{\\tau \\to 0} (1-\\gamma \\tau)^{t/\\tau} = e^{-\\gamma t}\n",
    "\\end{align}\n",
    "\n",
    "we also know that in continuous time, as we shrink this interval $\\tau$, that probabilities turn into probability densities. In other words \n",
    "\n",
    "\\begin{align}\n",
    "    p( \\text{no longer infectious} \\in [t,t+\\tau] ) \\approx f(t) \\tau \n",
    "\\end{align}\n",
    "\n",
    "where $f$ is the probability density that an individual is no longer infectious in an interval from $t$ to $t+\\tau$.\n",
    "Then as $\\tau$ shrinks we find that \n",
    "\n",
    "\\begin{align}\n",
    "    p( \\text{no longer infectious} \\in [t,t+\\tau] )  &= \\gamma \\tau (1-\\gamma \\tau)^{t/\\tau} \\\\ \n",
    "    f(t) \\tau &\\approx \\gamma \\tau e^{-\\gamma t} \\\\ \n",
    "    f(t) &=  \\gamma e^{-\\gamma t}\n",
    "\\end{align}\n",
    "\n",
    "The density above $f(t)$ is an exponential distribution with paramter $\\gamma$. \n",
    "\n",
    "The derivative of the above is \n",
    "\n",
    "\\begin{align}\n",
    "    \\frac{df}{dt} = -\\gamma \\left[\\gamma e^{-\\gamma t}\\right] = -\\gamma f(t)\n",
    "\\end{align}\n",
    "\n",
    "This is the key. We assume in the SIR model that infectious individuals leave the infectious state like \n",
    "\n",
    "\\begin{align}\n",
    "    \\frac{dI}{dt} = -\\gamma I\n",
    "\\end{align}\n",
    "\n",
    "This can only mean that the infectious period is assumed to have an exponential density. "
   ]
  },
  {
   "cell_type": "markdown",
   "id": "fb0893b6-64dc-41b7-aef6-a7f81f78c74a",
   "metadata": {},
   "source": [
    "## The discrete-time Kermack McKendrick model\n",
    "\n",
    "If an infectious diseases did have an exponential period then it would mean that the probability you remain infectious decreases tremendously with time and that there is no 'typical' time in which an individual is infecitous.\n",
    "For most infectious diseases, an exponential distributed infectious period is unrealistic because there is a typical amount of time an individual remains infectious. \n",
    "\n",
    "Our goal will be to study the discrete-time Kermack McKendrick model as a means of incorporating any type of infectious period. We will follow closely the paper: [The discrete-time Kermack–McKendrick model: A versatile and computationally attractive framework for modeling epidemics](https://www.pnas.org/doi/10.1073/pnas.2106332118)."
   ]
  },
  {
   "cell_type": "markdown",
   "id": "9f4f3774-c3a6-4a46-8778-cc107568600e",
   "metadata": {},
   "source": [
    "For the typical SIR, we assume that the number of susceptibles is depleted like \n",
    "\n",
    "\\begin{align}\n",
    "    \\frac{dS(t)}{dt} = -\\beta \\frac{I(t)}{N} S(t) \n",
    "\\end{align}\n",
    "\n",
    "We can think of $\\beta \\frac{I(t)}{N}$ as a function of the number of infectors in the system.\n",
    "In other words\n",
    "\n",
    "\\begin{align}\n",
    "    \\Lambda(t) = \\beta \\frac{I(t)}{N}\n",
    "\\end{align}"
   ]
  },
  {
   "cell_type": "code",
   "execution_count": null,
   "id": "cd78a317-ad57-4621-bafe-4a157c73543c",
   "metadata": {},
   "outputs": [],
   "source": []
  },
  {
   "cell_type": "code",
   "execution_count": null,
   "id": "3e6bb0a7-c2e6-4a6a-ac27-ca7df51b79db",
   "metadata": {},
   "outputs": [],
   "source": []
  },
  {
   "cell_type": "code",
   "execution_count": null,
   "id": "75b67d0a-d376-4fda-8c1c-e6a8e3984f78",
   "metadata": {},
   "outputs": [],
   "source": []
  },
  {
   "cell_type": "code",
   "execution_count": null,
   "id": "d5332b1c-b64a-4240-9cfa-63b0ff748c78",
   "metadata": {},
   "outputs": [],
   "source": []
  },
  {
   "cell_type": "code",
   "execution_count": null,
   "id": "b6a6514f-0f9f-4aea-9e1f-da1bc8d6e501",
   "metadata": {},
   "outputs": [],
   "source": []
  },
  {
   "cell_type": "code",
   "execution_count": null,
   "id": "761522d6-2a65-4771-8cc0-8eb121165781",
   "metadata": {},
   "outputs": [],
   "source": []
  },
  {
   "cell_type": "code",
   "execution_count": null,
   "id": "d4857117-1fbf-4b76-94bd-611f37b15900",
   "metadata": {},
   "outputs": [],
   "source": []
  }
 ],
 "metadata": {
  "kernelspec": {
   "display_name": "Python 3 (ipykernel)",
   "language": "python",
   "name": "python3"
  },
  "language_info": {
   "codemirror_mode": {
    "name": "ipython",
    "version": 3
   },
   "file_extension": ".py",
   "mimetype": "text/x-python",
   "name": "python",
   "nbconvert_exporter": "python",
   "pygments_lexer": "ipython3",
   "version": "3.10.16"
  }
 },
 "nbformat": 4,
 "nbformat_minor": 5
}
