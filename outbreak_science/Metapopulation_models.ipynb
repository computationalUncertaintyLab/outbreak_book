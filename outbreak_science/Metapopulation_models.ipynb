{
 "cells": [
  {
   "cell_type": "markdown",
   "id": "50106406-9fe9-4ea2-9667-708bfc74fec1",
   "metadata": {},
   "source": [
    "# Metapopulation models\n",
    "```{contents} Table of Contents\n",
    ":depth: 3\n",
    "```"
   ]
  },
  {
   "cell_type": "markdown",
   "id": "61dbb3ce-a020-4c8d-b0b2-aff68b624b4f",
   "metadata": {},
   "source": [
    "## Canonical example \n",
    "\n",
    "\\begin{align}\n",
    "    \\frac{dS_{1}}{dt} &= -S_{1} \\left[ \\beta_{1} \\left( \\frac{I_{1}}{N_{1}} + \\rho \\frac{I_{2}}{N_{1}} \\right) \\right]  \\\\ \n",
    "    \\frac{dI_{1}}{dt} &=  S_{1} \\left[ \\beta_{1} \\left( \\frac{I_{1}}{N_{1}} + \\rho \\frac{I_{2}}{N_{1}} \\right) \\right]  - \\gamma I_{1} \\\\ \n",
    "    \\frac{dR_{1}}{dt} &= \\gamma I_{1} \\\\ \n",
    "\\\\\n",
    "    \\frac{dS_{2}}{dt} &= - S_{2} \\left[ \\beta_{1} \\left( \\frac{I_{2}}{N_{2}} + \\rho \\frac{I_{1}}{N_{2}} \\right) \\right]  \\\\ \n",
    "    \\frac{dI_{2}}{dt} &=  S_{2} \\left[ \\beta_{1} \\left( \\frac{I_{2}}{N_{2}} + \\rho \\frac{I_{1}}{N_{2}} \\right) \\right] - \\gamma I_{2} \\\\ \n",
    "    \\frac{dR_{2}}{dt} &= \\gamma I_{2} \\\\ \n",
    "\\end{align}"
   ]
  },
  {
   "cell_type": "code",
   "execution_count": null,
   "id": "91035397-ceff-4258-8860-8b4ade0e1c34",
   "metadata": {},
   "outputs": [],
   "source": [
    "import numpy as np\n",
    "from scipy.integrate import solve_ivp\n",
    "import matplotlib.pyplot as plt\n",
    "\n",
    "# Define the system of ODEs\n",
    "def sir_two_populations(t, y, beta1, gamma, rho, N1, N2):\n",
    "    S1, I1, R1, S2, I2, R2 = y\n",
    "    \n",
    "    dS1_dt = -S1 * beta1 * (I1 / N1 + rho * I2 / N1)\n",
    "    dI1_dt =  S1 * beta1 * (I1 / N1 + rho * I2 / N1) - gamma * I1\n",
    "    dR1_dt = gamma * I1\n",
    "    \n",
    "    dS2_dt = -S2 * beta1 * (I2 / N2 + rho * I1 / N2)\n",
    "    dI2_dt = S2 * beta1 * (I2 / N2 + rho * I1 / N2) - gamma * I2\n",
    "    dR2_dt = gamma * I2\n",
    "    \n",
    "    return [ dS1_dt, dI1_dt, dR1_dt\n",
    "            ,dS2_dt, dI2_dt, dR2_dt]\n",
    "\n",
    "# Parameters\n",
    "beta1 = 0.7  # Infection rate\n",
    "gamma = 0.5  # Recovery rate\n",
    "rho = 0.001    # Cross-population transmission factor\n",
    "N1, N2 = 1000, 1000  # Population sizes\n",
    "\n",
    "# Initial conditions\n",
    "S1_0, I1_0, R1_0 = N1 - 1, 1, 0  # Population 1\n",
    "S2_0, I2_0, R2_0 = N2 - 0, 0, 0  # Population 2\n",
    "y0 = [ S1_0, I1_0, R1_0\n",
    "      ,S2_0, I2_0, R2_0]\n",
    "\n",
    "# Time span\n",
    "t_span = (0, 100)  # 100 days\n",
    "t_eval = np.linspace(*t_span, 1000)\n",
    "\n",
    "# Solve the system\n",
    "solution = solve_ivp(sir_two_populations, t_span, y0, args=(beta1, gamma, rho, N1, N2), t_eval=t_eval)\n",
    "\n",
    "\n",
    "# Plot results\n",
    "plt.figure(figsize=(8, 4))\n",
    "plt.plot(solution.t, solution.y[1], label='I1 (Population 1)', linestyle='dashed')\n",
    "plt.plot(solution.t, solution.y[4], label='I2 (Population 2)', linestyle='dashed')\n",
    "\n",
    "\n",
    "plt.xlabel('Time (days)')\n",
    "plt.ylabel('Population')\n",
    "plt.title('SIR Model for Two Interacting Populations')\n",
    "plt.legend()\n",
    "plt.show()"
   ]
  },
  {
   "cell_type": "markdown",
   "id": "2aa1f2f1-04a8-4ac8-aab2-f0470964112d",
   "metadata": {},
   "source": [
    "### Force of infection and Strength of interaction "
   ]
  },
  {
   "cell_type": "markdown",
   "id": "b3e2287c-2826-4c8a-b96c-33b3e8724404",
   "metadata": {},
   "source": [
    "### Example of dynamics"
   ]
  },
  {
   "cell_type": "markdown",
   "id": "b5f31b63-df5b-42fc-8d1f-617cdcee642a",
   "metadata": {},
   "source": [
    "### Starting an epidemic in a neighboring area"
   ]
  },
  {
   "cell_type": "markdown",
   "id": "e8e1e17d-773a-4399-828d-f8a8b4ae8192",
   "metadata": {},
   "source": [
    "### Probability of an epidemic "
   ]
  },
  {
   "cell_type": "markdown",
   "id": "54f90aca-9713-4fe5-a732-28de2ebb78f5",
   "metadata": {},
   "source": [
    "### Movement and commuting example  "
   ]
  },
  {
   "cell_type": "markdown",
   "id": "a95eb13e-e50d-4ed2-b58e-8195433adada",
   "metadata": {},
   "source": [
    "### Extinction and coupling"
   ]
  },
  {
   "cell_type": "code",
   "execution_count": null,
   "id": "a0900a44-6ffa-4d4a-b77d-eff79b125323",
   "metadata": {},
   "outputs": [],
   "source": []
  }
 ],
 "metadata": {
  "kernelspec": {
   "display_name": "Python 3 (ipykernel)",
   "language": "python",
   "name": "python3"
  },
  "language_info": {
   "codemirror_mode": {
    "name": "ipython",
    "version": 3
   },
   "file_extension": ".py",
   "mimetype": "text/x-python",
   "name": "python",
   "nbconvert_exporter": "python",
   "pygments_lexer": "ipython3",
   "version": "3.13.1"
  }
 },
 "nbformat": 4,
 "nbformat_minor": 5
}
