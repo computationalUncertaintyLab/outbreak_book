{
 "cells": [
  {
   "cell_type": "markdown",
   "metadata": {},
   "source": [
    "### Chapter two - Reed-Frost dynamics, a template for stochastic epidemic models"
   ]
  },
  {
   "cell_type": "markdown",
   "metadata": {},
   "source": [
    "#### Contents:\n",
    "* [Assumptions and setup](#setup)\n",
    "* [Probability of escape and infection](#escape)\n",
    "* [Initial Conditions](#init)\n",
    "* [Evolution](#evolution)\n",
    "* [Reed Frost Dynamical System](#reedfrost)\n",
    "* [Simulation](#simulation)\n",
    "* [When p is small](#psmall)\n",
    "* [Fitting the Reed-Frost to observations](#fit2data)\n",
    "* [Using the computer to optimize](#computer)"
   ]
  },
  {
   "cell_type": "markdown",
   "metadata": {},
   "source": [
    "#### Assumptions and setup <a class=\"anchor\" id=\"setup\"></a>\n",
    "\n",
    "Suppose that there exists $N$ individuals who can exist in one of three disease states starting at time $0$ and ending at time $T$:\n",
    "1. Susceptible - An individual is not infected at present but can be infected in the future.\n",
    "2. Infected - An individual is infected at present and can infect other susceptible individuals. \n",
    "3. Removed - An individual is no longer susceptible, nor infected, and cannot again become infected. \n",
    "\n",
    "- Assume, for each time unit, that all $N$ individuals come into contact with one another, and that each interaction is independent. \n",
    "When a susceptible comes into contact with an infected, the susceptible individual has a probability $p$ of moving from the susceptible state to the infected state ($S \\to I$). \n",
    "\n",
    "- Assume that if an individual is infected then they (1) are only infected for a single time unit and (2) after that time units ends they are removed. \n",
    "\n",
    "- Assume that the probability of infection should depend on the number of infected individuals in the population."
   ]
  },
  {
   "cell_type": "markdown",
   "metadata": {},
   "source": [
    "#### Probability of escape and infection <a class=\"anchor\" id=\"escape\"></a>\n",
    "\n",
    "Consider a single susceptible individual. \n",
    "At time $t$, this susceptible individual will contact all $I$ infected individuals. \n",
    "At each contact between the susceptible individual and one of the infected individuals, there is a probabilty $p$ that the infected individual is successfull and infects this suscpetible individual.\n",
    "\n",
    "If $p$ is the probability that an infected individual---often called can infector---can infect this suceptible then the probability that an infector does **not** infect this suscpetible is $1-p$.\n",
    "Then the probability that this susceptible is not infected by the first member in $I$ is $(1-p)$ and the probability that this this susceptible is not infected by the first **and** second infector is \n",
    "\n",
    "$$\n",
    "(1-p) \\times (1-p)\n",
    "$$\n",
    "\n",
    "and so the probability that this suscpetible is not infected by all infectors in $I$ is \n",
    "\n",
    "$$\n",
    "p(\\text{escape}) = (1-p) \\times (1-p)\\times (1-p) \\cdots \\times (1-p) = (1-p)^{I}\n",
    "$$\n",
    "This is typically called the **esape probability**. \n",
    "\n",
    "If $(1-p)^{I}$ is the probability that no infector successfully infects this susceptible then the probability that at least one individual infects this suscpetible is \n",
    "\n",
    "$$\n",
    " p(\\text{infection}) = 1 - \\left[(1-p)^{I}\\right]\n",
    "$$\n",
    "\n",
    "\n",
    "\n",
    "\n"
   ]
  },
  {
   "cell_type": "markdown",
   "metadata": {},
   "source": [
    "#### Initial conditions <a class=\"anchor\" id=\"init\"></a>\n",
    "\n",
    "The above assumptions and conditions assume that the $N$ individuals who can exist in one of three disease states may move from one disease state to another *over time*.\n",
    "Let us be explicit, and define the number of individuals in each disease state at time $0$, and define how the number of indivduals in each of the three disease states is expected to change over time. \n",
    "\n",
    "The **initial conditions** assigns a number of individuals to each disease state at time $0$, and is denoted \n",
    "\\begin{align}\n",
    "i_{0} &= i^{0}\\\\ \n",
    "s_{0} &= s^{0}\\\\\n",
    "r_{0} &= r^{0}\n",
    "\\end{align}\n",
    "where lowercase letters denote an observed or realized number of individuals in each disease state at time $0$ (the subscript) and lowercase letters with a superscript denote values between $0$ and $N$. \n",
    "For this model, the sum of the number of individuals in each disease state must equal $N$. "
   ]
  },
  {
   "cell_type": "markdown",
   "metadata": {},
   "source": [
    "#### Evolution<a class=\"anchor\" id=\"evolution\"></a>\n",
    "\n",
    "Now that we have specified, at time $0$, the number of individuals who belong to the susceptible disease state ($s_{0}$), number of individuals who belong to the infected disease state ($i_{0}$), and number of individuals who belong to the removed disease state ($r_{0}$), we must decide the number of individuals at **the next time step**.\n",
    "\n",
    "At time $t$, suppose that there exists $S_{t}$ susceptible individuals. \n",
    "A susceptible individual moves to the infected state with probability $1 - (1-p)^{I_{t}}$ (see above section on escape). \n",
    "Further, we assume that for each susceptible the probability of moving to the infected state is independent. \n",
    "If we define \"success\" as $1 - (1-p)^{I_{t}}$ and the number of trials as $S_{t}$ then the **number of infected individuals at time $t+1$ or $I_{t+1}$** has a Binomial distribution, \n",
    "\n",
    "\\begin{align}\n",
    "I_{t+1} &\\sim \\text{Bin}\\left(S_{t}, \\left[1 - (1-p)^{I_{t}}\\right] \\right).\n",
    "\\end{align}\n",
    "\n",
    "Let the observed number of infected individuals at time $t+1$ equal $i_{t+1}$.\n",
    "Then the number of susceptibles at the next time step is then equal to the number of susceptibles at time $t$ minus the number of susceptibles who became infected. \n",
    "\n",
    "\\begin{align}\n",
    "s_{t+1} &= s_{t} - i_{t+1} \\\\ \n",
    "\\end{align}\n",
    "\n",
    "Finally, we assume that at the end of each time unit all infected individuals at time $t$ move to the \"removed\" category. So then, \n",
    "\\begin{align}\n",
    "r_{t+1} &= r_{t}+ i_{t}\n",
    "\\end{align}\n",
    "\n",
    "\n",
    "\n"
   ]
  },
  {
   "cell_type": "markdown",
   "metadata": {},
   "source": [
    "#### The Reed Frost Dynamical System<a class=\"anchor\" id=\"reedfrost\"></a>\n",
    "\n",
    "The system of equations \n",
    "\\begin{align}\n",
    "I_{t+1} &\\sim \\text{Bin}\\left(S_{t}, \\left[1 - (1-p)^{I_{t}}\\right] \\right)\\\\\n",
    "s_{t+1} &= s_{t} - i_{t+1} \\\\ \n",
    "r_{t+1} &= r_{t}+ i_{t}\n",
    "\\end{align}\n",
    "\n",
    "along with initial conditions \n",
    "\\begin{align}\n",
    "(s^{0}, i^{0},r^{0})\n",
    "\\end{align}\n",
    "\n",
    "define a system called **The Reed Frost Dynamical System**. \n",
    "We note that the captial $I_{t+1}$ indicates that the number of infectors at time $t+1$ is a random variable. \n",
    "After the number of infectors is determined, the number of susceptibles is automatically determined. \n",
    "However, before the number of infectors is selected the number of susceptibles is itself a random variable. \n",
    "\n",
    "One should be careful about when the number of susceptibles at time $t+1$ is a random variable.\n",
    "Before the number of infectors is assigned the number of susceptibles  is a random variable. After the number of infectors is assigned then the number of susceptibles is not random. "
   ]
  },
  {
   "cell_type": "markdown",
   "metadata": {},
   "source": [
    "#### Simulation<a class=\"anchor\" id=\"simulation\"></a>\n",
    "\n",
    "Below is a simulation of the above Reed Frost Dynamical System.\n",
    "Presented is the number of infected individual at each time unit for a specified number of simulations. \n",
    "At this point, the code (in Python) is not important.\n",
    "\n",
    "Instead, please select different values for $p$, the probability of infection; $i^{0} the initial number of infectors; and sims, the number of unique times to run this Reed Frost System. "
   ]
  },
  {
   "cell_type": "code",
   "execution_count": 39,
   "metadata": {},
   "outputs": [
    {
     "data": {
      "application/vnd.jupyter.widget-view+json": {
       "model_id": "0b7420f9c3834ecf906306d37ff2fc08",
       "version_major": 2,
       "version_minor": 0
      },
      "text/plain": [
       "interactive(children=(IntSlider(value=10, description='sims', max=30, min=-10), IntSlider(value=1, description…"
      ]
     },
     "metadata": {},
     "output_type": "display_data"
    },
    {
     "data": {
      "text/plain": [
       "<function __main__.Reed_Frost_Dynamical_system(sims=10, T=15, N=1000, i0=1, p=0.02)>"
      ]
     },
     "execution_count": 39,
     "metadata": {},
     "output_type": "execute_result"
    }
   ],
   "source": [
    "from ipywidgets import interact, interactive, fixed, interact_manual\n",
    "import ipywidgets as widgets\n",
    "\n",
    "def Reed_Frost_Dynamical_system(sims=10, T=15, N=1000, i0=1, p=0.02  ):\n",
    "    def evolve(T,N,i0,p):\n",
    "        import numpy as np \n",
    "        import matplotlib.pyplot as plt\n",
    "\n",
    "        infectors    = [i0]\n",
    "        removed      = [0]\n",
    "        susceptibles = [N-i0]\n",
    "        for t in range(T):\n",
    "            i_tp1 = np.random.binomial(n=susceptibles[-1], p=1-(1-p)**( infectors[-1] ) , size=1  ) [0]\n",
    "            s_tp1 = susceptibles[-1] - i_tp1\n",
    "            r_tp1 = removed[-1] + infectors[-1]\n",
    "\n",
    "            infectors.append(i_tp1)\n",
    "            susceptibles.append(s_tp1)\n",
    "            removed.append(r_tp1)\n",
    "        infectors = np.array(infectors)\n",
    "\n",
    "        return infectors\n",
    "\n",
    "    fig, ax = plt.subplots()\n",
    "    for _ in range(sims):\n",
    "        infectors = evolve(T,N,i0,p)\n",
    "        ax.plot(infectors)\n",
    "    ax.set_ylim(0,75)\n",
    "    ax.set_xlabel(\"Time units (t)\",fontsize=10)\n",
    "    ax.set_ylabel(\"Number of infectors (It)\",fontsize=10)\n",
    "    plt.show()\n",
    "        \n",
    "interact(Reed_Frost_Dynamical_system\n",
    "         ,T=fixed(15)\n",
    "         ,N=fixed(100)\n",
    "         ,r0=fixed(0)\n",
    "         ,i0=widgets.IntSlider(min=0, max=20, step=1, value=1) \n",
    "         ,p=(0,0.1,0.00125))"
   ]
  },
  {
   "cell_type": "markdown",
   "metadata": {},
   "source": [
    "#### Dynamics assumed at start of outbreak \n",
    "\n",
    "\n",
    "\n"
   ]
  },
  {
   "cell_type": "markdown",
   "metadata": {},
   "source": [
    "#### The ability to study epidemic chains \n",
    "\n",
    "Define an **epidemic chain** as the number of infected individuals over discrete time units. \n",
    "We will denote an epidemic chain as $i^{1}-i^{2}-i^{3}-i^{4}-i^{5}-\\cdots$\n",
    "where $i^{1}$ specifies the number of infected individuals within the first time unit, $i^{2}$ specifies the number of infected within the second time units and so on. \n",
    "\n",
    "*For example*, if we consider a household of 4 individuals then a feasible chain is \n",
    "1-2-1 and can be read \"one individual was infected. This indiviudal infected two household members, and one of these two household members (not the original infected individual) infected the last household member who was still susceptible.\". \n"
   ]
  },
  {
   "cell_type": "code",
   "execution_count": 1,
   "metadata": {},
   "outputs": [
    {
     "ename": "SyntaxError",
     "evalue": "invalid syntax (<ipython-input-1-12d50507e955>, line 1)",
     "output_type": "error",
     "traceback": [
      "\u001b[0;36m  File \u001b[0;32m\"<ipython-input-1-12d50507e955>\"\u001b[0;36m, line \u001b[0;32m1\u001b[0m\n\u001b[0;31m    Relationship between lambda and 1-(1-p)^{I}\u001b[0m\n\u001b[0m                 ^\u001b[0m\n\u001b[0;31mSyntaxError\u001b[0m\u001b[0;31m:\u001b[0m invalid syntax\n"
     ]
    }
   ],
   "source": [
    "Relationship between lambda and 1-(1-p)^{I}\n",
    "Susceptible with k contacts per unit time\n",
    "proportion I infected\n",
    "probability p of transmission\n",
    "They make k*I contacts with infected\n",
    "Prob of escape = (1-p)^{k*I}\n",
    "Prob of infection = 1 - (1-p)^{k*I}\n",
    "Approx Bi where B = klog(1-p)"
   ]
  },
  {
   "cell_type": "code",
   "execution_count": null,
   "metadata": {},
   "outputs": [],
   "source": [
    "Fit Reed-Frost to data \n",
    "The Likelihood function and chain-binomial model\n",
    "Building a likelihood function \n"
   ]
  },
  {
   "cell_type": "code",
   "execution_count": null,
   "metadata": {},
   "outputs": [],
   "source": []
  },
  {
   "cell_type": "code",
   "execution_count": null,
   "metadata": {},
   "outputs": [],
   "source": []
  },
  {
   "cell_type": "code",
   "execution_count": null,
   "metadata": {},
   "outputs": [],
   "source": []
  },
  {
   "cell_type": "code",
   "execution_count": null,
   "metadata": {},
   "outputs": [],
   "source": []
  },
  {
   "cell_type": "code",
   "execution_count": null,
   "metadata": {},
   "outputs": [],
   "source": []
  }
 ],
 "metadata": {
  "kernelspec": {
   "display_name": "Python 3 (ipykernel)",
   "language": "python",
   "name": "python3"
  },
  "language_info": {
   "codemirror_mode": {
    "name": "ipython",
    "version": 3
   },
   "file_extension": ".py",
   "mimetype": "text/x-python",
   "name": "python",
   "nbconvert_exporter": "python",
   "pygments_lexer": "ipython3",
   "version": "3.9.15"
  }
 },
 "nbformat": 4,
 "nbformat_minor": 4
}
