{
 "cells": [
  {
   "cell_type": "markdown",
   "id": "856b9e95-d7b0-424b-af84-5e522d5356e0",
   "metadata": {},
   "source": [
    "# LTCF application\n",
    "\n",
    "```{cointents} Table of Contents\n",
    ":depth: 3\n",
    "```"
   ]
  },
  {
   "cell_type": "markdown",
   "id": "1838e413-a908-429a-a893-543252cba34e",
   "metadata": {},
   "source": [
    "\n",
    "\"https://academic.oup.com/cid/article/74/1/113/6370508#google_vignette\"\n",
    "\n",
    "LTCFs have a high burden of norovirus outbreaks. Most LTCF norovirus outbreaks occurred during winter months and were spread person-to-person. Outbreak surveillance can inform development of interventions for this vulnerable population, such as vaccines targeting GII.4 norovirus strains.\n",
    "\n",
    "For every 1000 cases, there were 21.6 hospitalizations and 2.3 deaths.\n",
    "\n",
    "\n",
    "\"https://www.sciencedirect.com/science/article/pii/S1755436523000075\"\n",
    "\n",
    "\n"
   ]
  },
  {
   "cell_type": "markdown",
   "id": "d4d5723c-f8f8-43f1-8e08-182c8c62752a",
   "metadata": {},
   "source": [
    "## Guided model building \n",
    "\n",
    "1. What populations should we consider?\n",
    "2. Is this type of pathogen seasonal and recurring?\n",
    "3. Do we expect different rates of commuting between specific populations? \n",
    "4. Can we visualize our model?\n",
    "5. Can we write down the system of differential equations?\n",
    "6. Can we code it?\n",
    "7. Can we infer anything important from our model results? \n"
   ]
  },
  {
   "cell_type": "code",
   "execution_count": 13,
   "id": "7e7957d9-7096-4090-a1b7-2b2089a85a11",
   "metadata": {},
   "outputs": [
    {
     "data": {
      "text/plain": [
       "[<matplotlib.lines.Line2D at 0x1212b0640>]"
      ]
     },
     "execution_count": 13,
     "metadata": {},
     "output_type": "execute_result"
    },
    {
     "data": {
      "image/png": "[encoded data removed]",
      "text/plain": [
       "<Figure size 900x400 with 1 Axes>"
      ]
     },
     "metadata": {},
     "output_type": "display_data"
    }
   ],
   "source": [
    "import numpy as np\n",
    "from scipy.integrate import solve_ivp\n",
    "import matplotlib.pyplot as plt\n",
    "\n",
    "\n",
    "#-Population X is residents of a LTCF (Location X is the LTCF))\n",
    "#-Population Y is clinical staff      (Location Y is the hospital)\n",
    "\n",
    "\n",
    "\n",
    "def vary_rho(rho):\n",
    "    def sir_two_populations(t, y, beta\n",
    "                            ,gamma_clinician\n",
    "                            ,gamma_resident\n",
    "                            ,new_resident_enters_ltcf\n",
    "                            ,new_clinician_is_hired\n",
    "                            ,residents_come_back_from_hospital\n",
    "                            ,residents_go_to_hospital\n",
    "                            ,clinicians_come_back_to_hospital\n",
    "                            ,clinicians_go_to_LTCF):\n",
    "        Sxx,Sxy,Syx,Syy,Ixx,Ixy,Iyx,Iyy,  Nxx,Nxy,Nyx,Nyy = y\n",
    "\n",
    "        #--LTCF (Resdients) Population------------------------------------------------------------------------------------------------------------------------------\n",
    "        dSxx_dt = (new_resident_enters_ltcf)*Nxx-beta * Sxx * (Ixx + Iyx)/( Nxx + Nyx )   + residents_come_back_from_hospital*Sxy - residents_go_to_hospital*Sxx \n",
    "        dSxy_dt = (new_resident_enters_ltcf)  *Nxy-beta * Sxy * (Iyy + Ixy)/( Nyy + Nxy ) - residents_come_back_from_hospital*Sxy + residents_go_to_hospital*Sxx\n",
    "\n",
    "        dIxx_dt = beta * Sxx * (Ixx + Iyx)/( Nxx + Nyx ) + residents_come_back_from_hospital*Ixy - residents_go_to_hospital*Ixx - gamma_resident*Ixx\n",
    "        dIxy_dt = beta * Sxy * (Iyy + Ixy)/( Nyy + Nxy ) - residents_come_back_from_hospital*Ixy + residents_go_to_hospital*Ixx - gamma_resident*Ixy\n",
    "        \n",
    "        #--Clinicians Population------------------------------------------------------------------------------------------------------------------------------        \n",
    "        dSyx_dt = new_clinician_is_hired*Nyx-beta * Syx * (Ixx + Iyx)/( Nxx + Nyx ) - clinicians_come_back_to_hospital*Syx + clinicians_go_to_LTCF*Syy\n",
    "        dSyy_dt = new_clinician_is_hired*Nyy-beta * Syy * (Iyy + Ixy)/( Nyy + Nxy ) + clinicians_come_back_to_hospital*Syx - clinicians_go_to_LTCF*Syy\n",
    "\n",
    "        dIyx_dt = beta * Syx * (Ixx + Iyx)/( Nxx + Nyx ) - clinicians_come_back_to_hospital*Iyx + clinicians_go_to_LTCF*Iyy - gamma_clinician*Iyx\n",
    "        dIyy_dt = beta * Syy * (Iyy + Ixy)/( Nyy + Nxy ) + clinicians_come_back_to_hospital*Iyx - clinicians_go_to_LTCF*Iyy - gamma_clinician*Iyy\n",
    "        \n",
    "        #-- This piece first-----------------------------------------------------------------------\n",
    "        #--residents of LTCF\n",
    "        dNxx_dt    = residents_come_back_from_hospital * Nxy - residents_go_to_hospital * Nxx\n",
    "        dNxy_dt    = -residents_come_back_from_hospital * Nxy + residents_go_to_hospital * Nxx\n",
    "\n",
    "        #--Clinical Staff\n",
    "        dNyy_dt    = clinicians_come_back_to_hospital * Nyx - clinicians_go_to_LTCF * Nyy \n",
    "        dNyx_dt    = -clinicians_come_back_to_hospital * Nyx + clinicians_go_to_LTCF * Nyy\n",
    "        #----------------------------------------------------------------------------------------\n",
    "        \n",
    "        return [ dSxx_dt, dSxy_dt, dSyx_dt, dSyy_dt\n",
    "               , dIxx_dt, dIxy_dt, dIyx_dt, dIyy_dt\n",
    "               , dNxx_dt, dNxy_dt, dNyx_dt, dNyy_dt] \n",
    "    \n",
    "    # Parameters\n",
    "    beta      = 0.7             # Infection rate\n",
    "    gamma_clinician  = 0.5      # Recovery rate\n",
    "    gamma_resident   = 0.25     # Recovery rate\n",
    "    \n",
    "    new_resident_enters_ltcf = 0.#1./4\n",
    "    new_clinician_is_hired   = 0.#1./52\n",
    "    \n",
    "    residents_come_back_from_hospital = 4.\n",
    "    residents_go_to_hospital          = 1.\n",
    "\n",
    "    clinicians_come_back_to_hospital  = 1.\n",
    "    clinicians_go_to_LTCF             = 1.\n",
    "    \n",
    "    Nxx, Nyy = 1000, 10  # Population sizes\n",
    "    Nxy, Nyx =    0, 0 # Population sizes\n",
    "\n",
    "    # Initial conditions\n",
    "    Sxx,Sxy,Syx,Syy = 999,0,0,10\n",
    "    Ixx,Ixy,Iyx,Iyy = 1,0,0,0\n",
    "\n",
    "    y0 = [Sxx,Sxy,Syx,Syy,Ixx,Ixy,Iyx,Iyy,Nxx,Nxy,Nyx,Nyy]\n",
    "    \n",
    "    # Time span\n",
    "    t_span = (0, 500)  # 100 days\n",
    "    t_eval = np.linspace(*t_span, (t_span[-1]-t_span[0])*2 )\n",
    "    \n",
    "    # Solve the system\n",
    "    solution = solve_ivp(sir_two_populations\n",
    "                         , t_span\n",
    "                         , y0\n",
    "                         , args   = (beta\n",
    "                                    ,gamma_clinician\n",
    "                                    ,gamma_resident\n",
    "                                    ,new_resident_enters_ltcf\n",
    "                                    ,new_clinician_is_hired\n",
    "                                    ,residents_come_back_from_hospital\n",
    "                                    ,residents_go_to_hospital\n",
    "                                    ,clinicians_come_back_to_hospital\n",
    "                                    ,clinicians_go_to_LTCF)\n",
    "                         , t_eval = t_eval)\n",
    "    return solution \n",
    "    \n",
    "\n",
    "# Plot results\n",
    "fig,ax = plt.subplots( 1,1, figsize=(9, 4))\n",
    "\n",
    "solution = vary_rho(0)\n",
    "\n",
    "Ix = solution.y[4] + solution.y[5]\n",
    "Iy = solution.y[6] + solution.y[7]\n",
    "\n",
    "ax.plot(solution.t[:200], Ix[:200]/1000 , label='I1 (Population 1)')\n",
    "ax.set_ylim(0,0.40)\n",
    "\n",
    "ax.plot(solution.t[:200], Iy[:200]/10,  label='I2 (Population 2)', linestyle='dashed')"
   ]
  },
  {
   "cell_type": "code",
   "execution_count": null,
   "id": "99162ac3-fb0b-43fa-b21e-d0fb17db3557",
   "metadata": {},
   "outputs": [],
   "source": []
  }
 ],
 "metadata": {
  "kernelspec": {
   "display_name": "Python 3 (ipykernel)",
   "language": "python",
   "name": "python3"
  },
  "language_info": {
   "codemirror_mode": {
    "name": "ipython",
    "version": 3
   },
   "file_extension": ".py",
   "mimetype": "text/x-python",
   "name": "python",
   "nbconvert_exporter": "python",
   "pygments_lexer": "ipython3",
   "version": "3.10.16"
  }
 },
 "nbformat": 4,
 "nbformat_minor": 5
}
