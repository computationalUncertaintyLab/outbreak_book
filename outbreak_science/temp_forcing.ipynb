{
 "cells": [
  {
   "cell_type": "markdown",
   "id": "9d252f06-e61d-44f7-9bb6-b17adba634d2",
   "metadata": {},
   "source": [
    "# Chapter 9 - Temporal forcing and time-dependent parameters \n",
    "\n",
    "```{contents} Table of Contents\n",
    ":depth: 3\n",
    "```\n",
    "\n",
    "\n",
    "Up until this point, we have assumed that the dynamical systems governing the spread of a pathogen rely on a finite set of fixed parameter values. \n",
    "For example, for the SIR model, we assume that $\\beta$ the transmission rate and $1/\\gamma$ the average infectious period do not change over time. \n",
    "\n",
    "\\begin{align}\n",
    "    \\frac{dS}{dt} &= -\\beta S \\frac{I}{N}\\\\ \n",
    "    \\frac{dI}{dt} &= \\beta S \\frac{I}{N} - \\gamma I  \\\\ \n",
    "    \\frac{dR}{dt} &= \\gamma I\n",
    "\\end{align}\n",
    "\n",
    "We see that the parameter values in the above model are constants (i.e. not functions of time). \n",
    "\n",
    "There are many different situations where time-dependent parameters are a more appropriate way to model an outbreak.\n",
    "\n",
    "## Intervention for compartmental models\n",
    "The simplest example is when we assume that transmission has changed because of an intervention.\n",
    "This was explored in Chapter 4 for the Reed-Frost model. \n",
    "For completeness we will explore an intervention model below for compartmental models. \n",
    "\n",
    "Assume that we wish to model the number of susceptible, infectious, and removed individuals from time $0$ to time $T$ in increments of $1$. For example, we may assume that we observe these diseases states from week 0 to week 31 in increments of one week. \n",
    "\n",
    "Assume that an intervention will be implemented at time $T'$.\n",
    "When the intervention is implemented then it will reduce the transmission rate by a proportion $\\rho$ for $0 < \\rho < 1$ for $\\tau$ time units. \n",
    "\n",
    "The above assumptions change our SIR model from one with a constant set of parameters $\\theta = (\\beta, \\gamma)$ to a model with parameter values that depend on time. These models are (often) called **Time-dependent models** or sometimes a model with time-varying parameters, etc. \n",
    "\n",
    "We modify the above SIR such that the constant $\\beta$ is not a function of time unit, $t$, or \\beta(t).\n",
    "Note: Time-dependent models include models with constant parameter values. "
   ]
  },
  {
   "cell_type": "code",
   "execution_count": null,
   "id": "5288962c-6f74-4411-860b-5e04b89ff994",
   "metadata": {},
   "outputs": [],
   "source": []
  },
  {
   "cell_type": "code",
   "execution_count": null,
   "id": "03fa10e1-27e8-4d96-a536-a80183b71ae3",
   "metadata": {},
   "outputs": [],
   "source": []
  },
  {
   "cell_type": "code",
   "execution_count": null,
   "id": "4bc7909c-c04e-4994-908e-03171881cce3",
   "metadata": {},
   "outputs": [],
   "source": []
  },
  {
   "cell_type": "code",
   "execution_count": null,
   "id": "667b061a-8528-45cd-a20d-8e14d1ee3b68",
   "metadata": {},
   "outputs": [],
   "source": []
  },
  {
   "cell_type": "code",
   "execution_count": null,
   "id": "c7fd7d5b-cf45-44b5-b9bf-baf98919a457",
   "metadata": {},
   "outputs": [],
   "source": []
  },
  {
   "cell_type": "code",
   "execution_count": null,
   "id": "badf0dc8-457e-4fe8-ba8d-e2a0636c658e",
   "metadata": {},
   "outputs": [],
   "source": []
  },
  {
   "cell_type": "code",
   "execution_count": null,
   "id": "5d735070-3a9c-44f6-b907-7f11a2f95c2a",
   "metadata": {},
   "outputs": [],
   "source": []
  },
  {
   "cell_type": "code",
   "execution_count": null,
   "id": "7a25ae7e-ae00-4b9b-8237-ba7550ae0ba2",
   "metadata": {},
   "outputs": [],
   "source": []
  },
  {
   "cell_type": "code",
   "execution_count": null,
   "id": "033570c9-333a-4db5-b1f4-66845cca8589",
   "metadata": {},
   "outputs": [],
   "source": []
  },
  {
   "cell_type": "code",
   "execution_count": null,
   "id": "97670b4b-75fd-4532-94b2-442e534dd8cb",
   "metadata": {},
   "outputs": [],
   "source": []
  }
 ],
 "metadata": {
  "kernelspec": {
   "display_name": "Python 3 (ipykernel)",
   "language": "python",
   "name": "python3"
  },
  "language_info": {
   "codemirror_mode": {
    "name": "ipython",
    "version": 3
   },
   "file_extension": ".py",
   "mimetype": "text/x-python",
   "name": "python",
   "nbconvert_exporter": "python",
   "pygments_lexer": "ipython3",
   "version": "3.10.16"
  }
 },
 "nbformat": 4,
 "nbformat_minor": 5
}
